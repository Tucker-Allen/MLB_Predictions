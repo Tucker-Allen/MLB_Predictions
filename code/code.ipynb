{
 "cells": [
  {
   "cell_type": "code",
   "execution_count": 1,
   "metadata": {
    "collapsed": true
   },
   "outputs": [],
   "source": [
    "import pandas as pd\n",
    "import numpy as np\n",
    "\n",
    "import matplotlib.pyplot as plt\n",
    "import seaborn as sns\n",
    "\n",
    "from collections import Counter\n",
    "\n",
    "%matplotlib inline"
   ]
  },
  {
   "cell_type": "markdown",
   "metadata": {},
   "source": [
    "### https://www.baseball-reference.com/\n",
    "\n",
    "Currently pulling all of 2017 to present day\n",
    "\n",
    "tb_away --> Team Finder, Game, Batting --> Sort by 'Date of Game', Visiting team <br/>\n",
    "tb_home --> Team Finder, Game, Batting --> Sort by 'Date of Game', Home team <br/>\n",
    "https://www.baseball-reference.com/play-index/game_finder.cgi?class=team&type=b\n",
    "\n",
    "tp_away --> Team Finder, Game, Pitching --> Sort by 'Date of Game', Visiting team <br/>\n",
    "tp_home --> Team Finder, Game, Pitching --> Sort by 'Date of Game', Home team <br/>\n",
    "https://www.baseball-reference.com/play-index/game_finder.cgi?class=team&type=p\n",
    "\n",
    "pp_L --> Player Finder, Game, Pitching --> Sort by 'Date of Game', Left-Handed, STARTING PITCHERS ONLY: <br/>\n",
    "pp_R --> Player Finder, Game, Pitching --> Sort by 'Date of Game', Right-Handed, STARTING PITCHERS ONLY: <br/>\n",
    "https://www.baseball-reference.com/play-index/game_finder.cgi?type=p"
   ]
  },
  {
   "cell_type": "markdown",
   "metadata": {},
   "source": [
    "To do:\n",
    "- Possibly One-hot Encode Stadiums\n",
    "- One-hot Encode Weather metrics\n",
    "- Include ADI metrics"
   ]
  },
  {
   "cell_type": "code",
   "execution_count": 41,
   "metadata": {
    "collapsed": true
   },
   "outputs": [],
   "source": [
    "# Read in the data\n",
    "tb_away = pd.read_csv('../data/team_batting_away_2018-05-14.csv')\n",
    "tb_home = pd.read_csv('../data/team_batting_home_2018-05-14.csv')\n",
    "\n",
    "tp_away = pd.read_csv('../data/team_pitching_away_2018-05-14.csv')\n",
    "tp_home = pd.read_csv('../data/team_pitching_home_2018-05-14.csv')\n",
    "\n",
    "pp_L = pd.read_csv('../data/player_pitching_L_2018-05-14.csv') \n",
    "pp_R = pd.read_csv('../data/player_pitching_R_2018-05-14.csv')"
   ]
  },
  {
   "cell_type": "code",
   "execution_count": 42,
   "metadata": {},
   "outputs": [
    {
     "name": "stdout",
     "output_type": "stream",
     "text": [
      "(2909, 35)\n",
      "(2909, 35)\n",
      "(2909, 43)\n",
      "(2909, 43)\n",
      "(1573, 45)\n",
      "(4245, 45)\n"
     ]
    }
   ],
   "source": [
    "# Assure that shapes are as expected\n",
    "print(tb_away.shape)\n",
    "print(tb_home.shape)\n",
    "\n",
    "print(tp_away.shape)\n",
    "print(tp_home.shape)\n",
    "\n",
    "print(pp_L.shape)\n",
    "print(pp_R.shape)"
   ]
  },
  {
   "cell_type": "code",
   "execution_count": 43,
   "metadata": {},
   "outputs": [
    {
     "name": "stdout",
     "output_type": "stream",
     "text": [
      "2017-04-02\n",
      "2017-04-02\n",
      "2017-04-02\n",
      "2017-04-02\n",
      "2017-04-02\n",
      "2017-04-02\n",
      "\n",
      "\n",
      "2018-05-14\n",
      "2018-05-14\n",
      "2018-05-14\n",
      "2018-05-14\n",
      "2018-05-14\n",
      "2018-05-14\n"
     ]
    }
   ],
   "source": [
    "# Make sure min/max dates match\n",
    "print(tb_away['Date'].min())\n",
    "print(tb_home['Date'].min())\n",
    "print(tp_away['Date'].min())\n",
    "print(tp_home['Date'].min())\n",
    "print(pp_L['Date'].min())\n",
    "print(pp_R['Date'].min())\n",
    "\n",
    "print('\\n')\n",
    "\n",
    "print(tb_away['Date'].max())\n",
    "print(tb_home['Date'].max())\n",
    "print(tp_away['Date'].max())\n",
    "print(tp_home['Date'].max())\n",
    "print(pp_L['Date'].max())\n",
    "print(pp_R['Date'].max())"
   ]
  },
  {
   "cell_type": "code",
   "execution_count": 44,
   "metadata": {
    "collapsed": true
   },
   "outputs": [],
   "source": [
    "# One-hot encode features not explicitly listed\n",
    "tb_away['Home?'] = 0\n",
    "tb_home['Home?'] = 1\n",
    "\n",
    "tp_away['Home?'] = 0\n",
    "tp_home['Home?'] = 1\n",
    "\n",
    "pp_L['RH?'] = 0\n",
    "pp_R['RH?'] = 1"
   ]
  },
  {
   "cell_type": "code",
   "execution_count": 45,
   "metadata": {
    "collapsed": true
   },
   "outputs": [],
   "source": [
    "# Collapse into combined dataframes\n",
    "tb = pd.concat([tb_away, tb_home])\n",
    "tp = pd.concat([tp_away, tp_home])\n",
    "pp = pd.concat([pp_L, pp_R])"
   ]
  },
  {
   "cell_type": "code",
   "execution_count": 46,
   "metadata": {
    "collapsed": true
   },
   "outputs": [],
   "source": [
    "# Reset indices, and drop erroneous 'Rk'\n",
    "tb.reset_index(drop=True, inplace=True)\n",
    "tp.reset_index(drop=True, inplace=True)\n",
    "pp.reset_index(drop=True, inplace=True)\n",
    "\n",
    "tb.drop('Rk', axis=1, inplace=True)\n",
    "tp.drop('Rk', axis=1, inplace=True)\n",
    "pp.drop('Rk', axis=1, inplace=True)"
   ]
  },
  {
   "cell_type": "markdown",
   "metadata": {},
   "source": [
    "## Create Stadium DataFrame"
   ]
  },
  {
   "cell_type": "code",
   "execution_count": 47,
   "metadata": {
    "collapsed": true
   },
   "outputs": [],
   "source": [
    "# https://www.fangraphs.com/community/complete-outfield-dimensions/\n",
    "stad_df = pd.read_csv('../data/power_alleys.tsv', sep='\\t')"
   ]
  },
  {
   "cell_type": "code",
   "execution_count": 48,
   "metadata": {
    "scrolled": true
   },
   "outputs": [
    {
     "data": {
      "text/html": [
       "<div>\n",
       "<style>\n",
       "    .dataframe thead tr:only-child th {\n",
       "        text-align: right;\n",
       "    }\n",
       "\n",
       "    .dataframe thead th {\n",
       "        text-align: left;\n",
       "    }\n",
       "\n",
       "    .dataframe tbody tr th {\n",
       "        vertical-align: top;\n",
       "    }\n",
       "</style>\n",
       "<table border=\"1\" class=\"dataframe\">\n",
       "  <thead>\n",
       "    <tr style=\"text-align: right;\">\n",
       "      <th></th>\n",
       "      <th>City</th>\n",
       "      <th>Team</th>\n",
       "      <th>Stadium</th>\n",
       "      <th>OF</th>\n",
       "      <th>LF</th>\n",
       "      <th>CF</th>\n",
       "      <th>RF</th>\n",
       "    </tr>\n",
       "  </thead>\n",
       "  <tbody>\n",
       "    <tr>\n",
       "      <th>0</th>\n",
       "      <td>Arizona</td>\n",
       "      <td>Diamondbacks</td>\n",
       "      <td>Chase Field</td>\n",
       "      <td>94.1</td>\n",
       "      <td>28.7</td>\n",
       "      <td>36.2</td>\n",
       "      <td>29.2</td>\n",
       "    </tr>\n",
       "    <tr>\n",
       "      <th>1</th>\n",
       "      <td>Atlanta</td>\n",
       "      <td>Braves</td>\n",
       "      <td>SunTrust Park</td>\n",
       "      <td>NaN</td>\n",
       "      <td>NaN</td>\n",
       "      <td>NaN</td>\n",
       "      <td>NaN</td>\n",
       "    </tr>\n",
       "    <tr>\n",
       "      <th>2</th>\n",
       "      <td>Baltimore</td>\n",
       "      <td>Orioles</td>\n",
       "      <td>Oriole Park at Camden Yards</td>\n",
       "      <td>87.8</td>\n",
       "      <td>27.1</td>\n",
       "      <td>34.4</td>\n",
       "      <td>26.3</td>\n",
       "    </tr>\n",
       "    <tr>\n",
       "      <th>3</th>\n",
       "      <td>Boston</td>\n",
       "      <td>Red Sox</td>\n",
       "      <td>Fenway Park</td>\n",
       "      <td>83.5</td>\n",
       "      <td>21.1</td>\n",
       "      <td>32.8</td>\n",
       "      <td>29.6</td>\n",
       "    </tr>\n",
       "    <tr>\n",
       "      <th>4</th>\n",
       "      <td>Chicago</td>\n",
       "      <td>Cubs</td>\n",
       "      <td>Wrigley Field</td>\n",
       "      <td>89.7</td>\n",
       "      <td>26.8</td>\n",
       "      <td>34.1</td>\n",
       "      <td>28.8</td>\n",
       "    </tr>\n",
       "    <tr>\n",
       "      <th>5</th>\n",
       "      <td>Chicago</td>\n",
       "      <td>White Sox</td>\n",
       "      <td>Guaranteed Rate Field</td>\n",
       "      <td>87.8</td>\n",
       "      <td>26.5</td>\n",
       "      <td>34.2</td>\n",
       "      <td>27.2</td>\n",
       "    </tr>\n",
       "    <tr>\n",
       "      <th>6</th>\n",
       "      <td>Cincinnati</td>\n",
       "      <td>Reds</td>\n",
       "      <td>Great American Ball Park</td>\n",
       "      <td>87.1</td>\n",
       "      <td>26.7</td>\n",
       "      <td>34.5</td>\n",
       "      <td>26.0</td>\n",
       "    </tr>\n",
       "    <tr>\n",
       "      <th>7</th>\n",
       "      <td>Cleveland</td>\n",
       "      <td>Indians</td>\n",
       "      <td>Progressive Field</td>\n",
       "      <td>85.6</td>\n",
       "      <td>25.8</td>\n",
       "      <td>33.2</td>\n",
       "      <td>26.6</td>\n",
       "    </tr>\n",
       "    <tr>\n",
       "      <th>8</th>\n",
       "      <td>Colorado</td>\n",
       "      <td>Rockies</td>\n",
       "      <td>Coors Field</td>\n",
       "      <td>97.3</td>\n",
       "      <td>30.2</td>\n",
       "      <td>38.3</td>\n",
       "      <td>28.8</td>\n",
       "    </tr>\n",
       "    <tr>\n",
       "      <th>9</th>\n",
       "      <td>Detroit</td>\n",
       "      <td>Tigers</td>\n",
       "      <td>Comerica Park</td>\n",
       "      <td>95.8</td>\n",
       "      <td>28.5</td>\n",
       "      <td>39.9</td>\n",
       "      <td>27.4</td>\n",
       "    </tr>\n",
       "    <tr>\n",
       "      <th>10</th>\n",
       "      <td>Houston</td>\n",
       "      <td>Astros</td>\n",
       "      <td>Minute Maid Park</td>\n",
       "      <td>88.6</td>\n",
       "      <td>23.2</td>\n",
       "      <td>38.8</td>\n",
       "      <td>26.6</td>\n",
       "    </tr>\n",
       "    <tr>\n",
       "      <th>11</th>\n",
       "      <td>Kansas City</td>\n",
       "      <td>Royals</td>\n",
       "      <td>Kauffman Stadium</td>\n",
       "      <td>97.9</td>\n",
       "      <td>30.4</td>\n",
       "      <td>36.9</td>\n",
       "      <td>30.5</td>\n",
       "    </tr>\n",
       "    <tr>\n",
       "      <th>12</th>\n",
       "      <td>Los Angeles</td>\n",
       "      <td>Angels</td>\n",
       "      <td>Angel Stadium</td>\n",
       "      <td>89.2</td>\n",
       "      <td>29.0</td>\n",
       "      <td>32.7</td>\n",
       "      <td>27.5</td>\n",
       "    </tr>\n",
       "    <tr>\n",
       "      <th>13</th>\n",
       "      <td>Los Angeles</td>\n",
       "      <td>Dodgers</td>\n",
       "      <td>Dodger Stadium</td>\n",
       "      <td>91.1</td>\n",
       "      <td>28.8</td>\n",
       "      <td>33.8</td>\n",
       "      <td>28.5</td>\n",
       "    </tr>\n",
       "    <tr>\n",
       "      <th>14</th>\n",
       "      <td>Miami</td>\n",
       "      <td>Marlins</td>\n",
       "      <td>Marlins Park</td>\n",
       "      <td>93.4</td>\n",
       "      <td>28.3</td>\n",
       "      <td>36.9</td>\n",
       "      <td>28.3</td>\n",
       "    </tr>\n",
       "    <tr>\n",
       "      <th>15</th>\n",
       "      <td>Milwaukee</td>\n",
       "      <td>Brewers</td>\n",
       "      <td>Miller Park</td>\n",
       "      <td>91.1</td>\n",
       "      <td>28.9</td>\n",
       "      <td>34.6</td>\n",
       "      <td>27.6</td>\n",
       "    </tr>\n",
       "    <tr>\n",
       "      <th>16</th>\n",
       "      <td>Minnesota</td>\n",
       "      <td>Twins</td>\n",
       "      <td>Target Field</td>\n",
       "      <td>90.4</td>\n",
       "      <td>28.0</td>\n",
       "      <td>35.8</td>\n",
       "      <td>26.6</td>\n",
       "    </tr>\n",
       "    <tr>\n",
       "      <th>17</th>\n",
       "      <td>New York</td>\n",
       "      <td>Mets</td>\n",
       "      <td>Citi Field</td>\n",
       "      <td>91.5</td>\n",
       "      <td>27.1</td>\n",
       "      <td>36.0</td>\n",
       "      <td>28.4</td>\n",
       "    </tr>\n",
       "    <tr>\n",
       "      <th>18</th>\n",
       "      <td>New York</td>\n",
       "      <td>Yankees</td>\n",
       "      <td>Yankee Stadium</td>\n",
       "      <td>87.6</td>\n",
       "      <td>27.7</td>\n",
       "      <td>35.6</td>\n",
       "      <td>24.2</td>\n",
       "    </tr>\n",
       "    <tr>\n",
       "      <th>19</th>\n",
       "      <td>Oakland</td>\n",
       "      <td>Athletics</td>\n",
       "      <td>O.co Coliseum</td>\n",
       "      <td>88.4</td>\n",
       "      <td>27.5</td>\n",
       "      <td>33.4</td>\n",
       "      <td>27.5</td>\n",
       "    </tr>\n",
       "    <tr>\n",
       "      <th>20</th>\n",
       "      <td>Philadelphia</td>\n",
       "      <td>Phillies</td>\n",
       "      <td>Citizens Bank Park</td>\n",
       "      <td>86.2</td>\n",
       "      <td>25.7</td>\n",
       "      <td>34.9</td>\n",
       "      <td>25.5</td>\n",
       "    </tr>\n",
       "    <tr>\n",
       "      <th>21</th>\n",
       "      <td>Pittsburgh</td>\n",
       "      <td>Pirates</td>\n",
       "      <td>PNC Park</td>\n",
       "      <td>90.2</td>\n",
       "      <td>29.8</td>\n",
       "      <td>33.9</td>\n",
       "      <td>26.5</td>\n",
       "    </tr>\n",
       "    <tr>\n",
       "      <th>22</th>\n",
       "      <td>San Diego</td>\n",
       "      <td>Padres</td>\n",
       "      <td>PETCO Park</td>\n",
       "      <td>90.8</td>\n",
       "      <td>27.9</td>\n",
       "      <td>35.0</td>\n",
       "      <td>27.8</td>\n",
       "    </tr>\n",
       "    <tr>\n",
       "      <th>23</th>\n",
       "      <td>San Francisco</td>\n",
       "      <td>Giants</td>\n",
       "      <td>AT&amp;T Park</td>\n",
       "      <td>92.2</td>\n",
       "      <td>27.3</td>\n",
       "      <td>36.2</td>\n",
       "      <td>28.7</td>\n",
       "    </tr>\n",
       "    <tr>\n",
       "      <th>24</th>\n",
       "      <td>Seattle</td>\n",
       "      <td>Mariners</td>\n",
       "      <td>Safeco Field</td>\n",
       "      <td>87.8</td>\n",
       "      <td>27.2</td>\n",
       "      <td>34.2</td>\n",
       "      <td>26.4</td>\n",
       "    </tr>\n",
       "    <tr>\n",
       "      <th>25</th>\n",
       "      <td>St. Louis</td>\n",
       "      <td>Cardinals</td>\n",
       "      <td>Busch Stadium</td>\n",
       "      <td>91.1</td>\n",
       "      <td>28.6</td>\n",
       "      <td>34.1</td>\n",
       "      <td>28.4</td>\n",
       "    </tr>\n",
       "    <tr>\n",
       "      <th>26</th>\n",
       "      <td>Tampa Bay</td>\n",
       "      <td>Rays</td>\n",
       "      <td>Tropicana Field</td>\n",
       "      <td>89.6</td>\n",
       "      <td>27.4</td>\n",
       "      <td>36.5</td>\n",
       "      <td>25.7</td>\n",
       "    </tr>\n",
       "    <tr>\n",
       "      <th>27</th>\n",
       "      <td>Texas</td>\n",
       "      <td>Rangers</td>\n",
       "      <td>Globe Life Park in Arlington</td>\n",
       "      <td>92.7</td>\n",
       "      <td>28.9</td>\n",
       "      <td>36.1</td>\n",
       "      <td>27.7</td>\n",
       "    </tr>\n",
       "    <tr>\n",
       "      <th>28</th>\n",
       "      <td>Toronto</td>\n",
       "      <td>Blue Jays</td>\n",
       "      <td>Rogers Centre</td>\n",
       "      <td>91.8</td>\n",
       "      <td>27.9</td>\n",
       "      <td>35.9</td>\n",
       "      <td>27.9</td>\n",
       "    </tr>\n",
       "    <tr>\n",
       "      <th>29</th>\n",
       "      <td>Washington</td>\n",
       "      <td>Nationals</td>\n",
       "      <td>Nationals Park</td>\n",
       "      <td>88.8</td>\n",
       "      <td>28.2</td>\n",
       "      <td>32.8</td>\n",
       "      <td>27.8</td>\n",
       "    </tr>\n",
       "  </tbody>\n",
       "</table>\n",
       "</div>"
      ],
      "text/plain": [
       "             City          Team                       Stadium    OF    LF  \\\n",
       "0         Arizona  Diamondbacks                   Chase Field  94.1  28.7   \n",
       "1         Atlanta        Braves                 SunTrust Park   NaN   NaN   \n",
       "2       Baltimore       Orioles   Oriole Park at Camden Yards  87.8  27.1   \n",
       "3          Boston       Red Sox                   Fenway Park  83.5  21.1   \n",
       "4         Chicago          Cubs                 Wrigley Field  89.7  26.8   \n",
       "5         Chicago     White Sox         Guaranteed Rate Field  87.8  26.5   \n",
       "6      Cincinnati          Reds      Great American Ball Park  87.1  26.7   \n",
       "7       Cleveland       Indians             Progressive Field  85.6  25.8   \n",
       "8        Colorado       Rockies                   Coors Field  97.3  30.2   \n",
       "9         Detroit        Tigers                 Comerica Park  95.8  28.5   \n",
       "10        Houston        Astros              Minute Maid Park  88.6  23.2   \n",
       "11    Kansas City        Royals              Kauffman Stadium  97.9  30.4   \n",
       "12    Los Angeles        Angels                 Angel Stadium  89.2  29.0   \n",
       "13    Los Angeles       Dodgers                Dodger Stadium  91.1  28.8   \n",
       "14          Miami       Marlins                  Marlins Park  93.4  28.3   \n",
       "15      Milwaukee       Brewers                   Miller Park  91.1  28.9   \n",
       "16      Minnesota         Twins                  Target Field  90.4  28.0   \n",
       "17       New York          Mets                    Citi Field  91.5  27.1   \n",
       "18       New York       Yankees                Yankee Stadium  87.6  27.7   \n",
       "19        Oakland     Athletics                 O.co Coliseum  88.4  27.5   \n",
       "20   Philadelphia      Phillies            Citizens Bank Park  86.2  25.7   \n",
       "21     Pittsburgh       Pirates                      PNC Park  90.2  29.8   \n",
       "22      San Diego        Padres                    PETCO Park  90.8  27.9   \n",
       "23  San Francisco        Giants                     AT&T Park  92.2  27.3   \n",
       "24        Seattle      Mariners                  Safeco Field  87.8  27.2   \n",
       "25      St. Louis     Cardinals                 Busch Stadium  91.1  28.6   \n",
       "26      Tampa Bay          Rays               Tropicana Field  89.6  27.4   \n",
       "27          Texas       Rangers  Globe Life Park in Arlington  92.7  28.9   \n",
       "28        Toronto     Blue Jays                 Rogers Centre  91.8  27.9   \n",
       "29     Washington     Nationals                Nationals Park  88.8  28.2   \n",
       "\n",
       "      CF    RF  \n",
       "0   36.2  29.2  \n",
       "1    NaN   NaN  \n",
       "2   34.4  26.3  \n",
       "3   32.8  29.6  \n",
       "4   34.1  28.8  \n",
       "5   34.2  27.2  \n",
       "6   34.5  26.0  \n",
       "7   33.2  26.6  \n",
       "8   38.3  28.8  \n",
       "9   39.9  27.4  \n",
       "10  38.8  26.6  \n",
       "11  36.9  30.5  \n",
       "12  32.7  27.5  \n",
       "13  33.8  28.5  \n",
       "14  36.9  28.3  \n",
       "15  34.6  27.6  \n",
       "16  35.8  26.6  \n",
       "17  36.0  28.4  \n",
       "18  35.6  24.2  \n",
       "19  33.4  27.5  \n",
       "20  34.9  25.5  \n",
       "21  33.9  26.5  \n",
       "22  35.0  27.8  \n",
       "23  36.2  28.7  \n",
       "24  34.2  26.4  \n",
       "25  34.1  28.4  \n",
       "26  36.5  25.7  \n",
       "27  36.1  27.7  \n",
       "28  35.9  27.9  \n",
       "29  32.8  27.8  "
      ]
     },
     "execution_count": 48,
     "metadata": {},
     "output_type": "execute_result"
    }
   ],
   "source": [
    "# New Stadium for ATL, dimensions unknown\n",
    "stad_df.set_value(1, 'Stadium', 'SunTrust Park')\n",
    "stad_df.set_value(1, 'OF', np.nan)\n",
    "stad_df.set_value(1, 'LF', np.nan)\n",
    "stad_df.set_value(1, 'CF', np.nan)\n",
    "stad_df.set_value(1, 'RF', np.nan)\n",
    "\n",
    "# Stadium for CHW only renamed, dimensions the same\n",
    "stad_df.set_value(5, 'Stadium', 'Guaranteed Rate Field')"
   ]
  },
  {
   "cell_type": "code",
   "execution_count": 49,
   "metadata": {
    "collapsed": true,
    "scrolled": true
   },
   "outputs": [],
   "source": [
    "stad_df['Abbrev'] = ['ARI', 'ATL', 'BAL', 'BOS', 'CHC', 'CHW', 'CIN', 'CLE', 'COL', 'DET',\n",
    "                      'HOU', 'KCR', 'LAA', 'LAD', 'MIA', 'MIL', 'MIN', 'NYM', 'NYY', 'OAK',\n",
    "                      'PHI', 'PIT', 'SDP', 'SFG', 'SEA', 'STL', 'TBR', 'TEX', 'TOR', 'WSN']"
   ]
  },
  {
   "cell_type": "code",
   "execution_count": 50,
   "metadata": {
    "collapsed": true
   },
   "outputs": [],
   "source": [
    "# Elevation, Distance to LF, Distance to CF, Distance to RF\n",
    "# Elevations: http://baseballjudgments.tripod.com/id62.html\n",
    "# Distance: http://www.andrewclem.com/Baseball/Overlay_comparison.php\n",
    "stadium_dims = {\n",
    "    'ARI': [1082, 330, 407, 335],\n",
    "    'ATL': [1050, 335, 400, 330],\n",
    "    'BAL': [130, 333, 410, 318],\n",
    "    'BOS': [20, 310, 390, 302],\n",
    "    'CHC': [596, 355, 400, 353],\n",
    "    'CHW': [596, 330, 400, 335],\n",
    "    'CIN': [683, 328, 404, 325],\n",
    "    'CLE': [582, 325, 400, 325],\n",
    "    'COL': [5183, 347, 415, 350],\n",
    "    'DET': [596, 345, 420, 330],\n",
    "    'HOU': [38, 315, 409, 326],\n",
    "    'KCR': [750, 330, 410, 330], \n",
    "    'LAA': [160, 347, 396, 350],\n",
    "    'LAD': [267, 330, 395, 330],\n",
    "    'MIA': [15, 344, 407, 335],\n",
    "    'MIL': [593, 344, 400, 345],\n",
    "    'MIN': [812, 339, 411, 328],\n",
    "    'NYM': [54, 335, 408, 330],\n",
    "    'NYY': [54, 318, 408, 314],\n",
    "    'OAK': [42, 330, 400, 330],\n",
    "    'PHI': [9, 334, 401, 330],\n",
    "    'PIT': [743, 325, 399, 320],\n",
    "    'STL': [455, 336, 400, 335],\n",
    "    'SDP': [13, 336, 396, 322],\n",
    "    'SFG': [63, 339, 399, 309],\n",
    "    'SEA': [10, 331, 401, 326],\n",
    "    'TBR': [44, 315, 404, 322],\n",
    "    'TEX': [616, 332, 404, 326],\n",
    "    'TOR': [247, 328, 400, 328],\n",
    "    'WSN': [25, 336, 402, 335]\n",
    "}"
   ]
  },
  {
   "cell_type": "code",
   "execution_count": 51,
   "metadata": {
    "collapsed": true
   },
   "outputs": [],
   "source": [
    "elev_list = []\n",
    "lf_list = []\n",
    "cf_list = []\n",
    "rf_list = []\n",
    "for i in stad_df.index:\n",
    "    elev_list.append(stadium_dims[stad_df.loc[i]['Abbrev']][0])\n",
    "    lf_list.append(stadium_dims[stad_df.loc[i]['Abbrev']][1])\n",
    "    cf_list.append(stadium_dims[stad_df.loc[i]['Abbrev']][2])\n",
    "    rf_list.append(stadium_dims[stad_df.loc[i]['Abbrev']][3])\n",
    "stad_df['Elev'] = elev_list\n",
    "stad_df['Dist_LF'] = lf_list\n",
    "stad_df['Dist_CF'] = cf_list\n",
    "stad_df['Dist_RF'] = rf_list"
   ]
  },
  {
   "cell_type": "code",
   "execution_count": 52,
   "metadata": {
    "scrolled": true
   },
   "outputs": [
    {
     "data": {
      "text/html": [
       "<div>\n",
       "<style>\n",
       "    .dataframe thead tr:only-child th {\n",
       "        text-align: right;\n",
       "    }\n",
       "\n",
       "    .dataframe thead th {\n",
       "        text-align: left;\n",
       "    }\n",
       "\n",
       "    .dataframe tbody tr th {\n",
       "        vertical-align: top;\n",
       "    }\n",
       "</style>\n",
       "<table border=\"1\" class=\"dataframe\">\n",
       "  <thead>\n",
       "    <tr style=\"text-align: right;\">\n",
       "      <th></th>\n",
       "      <th>City</th>\n",
       "      <th>Team</th>\n",
       "      <th>Stadium</th>\n",
       "      <th>OF</th>\n",
       "      <th>LF</th>\n",
       "      <th>CF</th>\n",
       "      <th>RF</th>\n",
       "      <th>Abbrev</th>\n",
       "      <th>Elev</th>\n",
       "      <th>Dist_LF</th>\n",
       "      <th>Dist_CF</th>\n",
       "      <th>Dist_RF</th>\n",
       "    </tr>\n",
       "  </thead>\n",
       "  <tbody>\n",
       "    <tr>\n",
       "      <th>0</th>\n",
       "      <td>Arizona</td>\n",
       "      <td>Diamondbacks</td>\n",
       "      <td>Chase Field</td>\n",
       "      <td>94.1</td>\n",
       "      <td>28.7</td>\n",
       "      <td>36.2</td>\n",
       "      <td>29.2</td>\n",
       "      <td>ARI</td>\n",
       "      <td>1082</td>\n",
       "      <td>330</td>\n",
       "      <td>407</td>\n",
       "      <td>335</td>\n",
       "    </tr>\n",
       "    <tr>\n",
       "      <th>1</th>\n",
       "      <td>Atlanta</td>\n",
       "      <td>Braves</td>\n",
       "      <td>SunTrust Park</td>\n",
       "      <td>NaN</td>\n",
       "      <td>NaN</td>\n",
       "      <td>NaN</td>\n",
       "      <td>NaN</td>\n",
       "      <td>ATL</td>\n",
       "      <td>1050</td>\n",
       "      <td>335</td>\n",
       "      <td>400</td>\n",
       "      <td>330</td>\n",
       "    </tr>\n",
       "    <tr>\n",
       "      <th>2</th>\n",
       "      <td>Baltimore</td>\n",
       "      <td>Orioles</td>\n",
       "      <td>Oriole Park at Camden Yards</td>\n",
       "      <td>87.8</td>\n",
       "      <td>27.1</td>\n",
       "      <td>34.4</td>\n",
       "      <td>26.3</td>\n",
       "      <td>BAL</td>\n",
       "      <td>130</td>\n",
       "      <td>333</td>\n",
       "      <td>410</td>\n",
       "      <td>318</td>\n",
       "    </tr>\n",
       "    <tr>\n",
       "      <th>3</th>\n",
       "      <td>Boston</td>\n",
       "      <td>Red Sox</td>\n",
       "      <td>Fenway Park</td>\n",
       "      <td>83.5</td>\n",
       "      <td>21.1</td>\n",
       "      <td>32.8</td>\n",
       "      <td>29.6</td>\n",
       "      <td>BOS</td>\n",
       "      <td>20</td>\n",
       "      <td>310</td>\n",
       "      <td>390</td>\n",
       "      <td>302</td>\n",
       "    </tr>\n",
       "    <tr>\n",
       "      <th>4</th>\n",
       "      <td>Chicago</td>\n",
       "      <td>Cubs</td>\n",
       "      <td>Wrigley Field</td>\n",
       "      <td>89.7</td>\n",
       "      <td>26.8</td>\n",
       "      <td>34.1</td>\n",
       "      <td>28.8</td>\n",
       "      <td>CHC</td>\n",
       "      <td>596</td>\n",
       "      <td>355</td>\n",
       "      <td>400</td>\n",
       "      <td>353</td>\n",
       "    </tr>\n",
       "    <tr>\n",
       "      <th>5</th>\n",
       "      <td>Chicago</td>\n",
       "      <td>White Sox</td>\n",
       "      <td>Guaranteed Rate Field</td>\n",
       "      <td>87.8</td>\n",
       "      <td>26.5</td>\n",
       "      <td>34.2</td>\n",
       "      <td>27.2</td>\n",
       "      <td>CHW</td>\n",
       "      <td>596</td>\n",
       "      <td>330</td>\n",
       "      <td>400</td>\n",
       "      <td>335</td>\n",
       "    </tr>\n",
       "    <tr>\n",
       "      <th>6</th>\n",
       "      <td>Cincinnati</td>\n",
       "      <td>Reds</td>\n",
       "      <td>Great American Ball Park</td>\n",
       "      <td>87.1</td>\n",
       "      <td>26.7</td>\n",
       "      <td>34.5</td>\n",
       "      <td>26.0</td>\n",
       "      <td>CIN</td>\n",
       "      <td>683</td>\n",
       "      <td>328</td>\n",
       "      <td>404</td>\n",
       "      <td>325</td>\n",
       "    </tr>\n",
       "    <tr>\n",
       "      <th>7</th>\n",
       "      <td>Cleveland</td>\n",
       "      <td>Indians</td>\n",
       "      <td>Progressive Field</td>\n",
       "      <td>85.6</td>\n",
       "      <td>25.8</td>\n",
       "      <td>33.2</td>\n",
       "      <td>26.6</td>\n",
       "      <td>CLE</td>\n",
       "      <td>582</td>\n",
       "      <td>325</td>\n",
       "      <td>400</td>\n",
       "      <td>325</td>\n",
       "    </tr>\n",
       "    <tr>\n",
       "      <th>8</th>\n",
       "      <td>Colorado</td>\n",
       "      <td>Rockies</td>\n",
       "      <td>Coors Field</td>\n",
       "      <td>97.3</td>\n",
       "      <td>30.2</td>\n",
       "      <td>38.3</td>\n",
       "      <td>28.8</td>\n",
       "      <td>COL</td>\n",
       "      <td>5183</td>\n",
       "      <td>347</td>\n",
       "      <td>415</td>\n",
       "      <td>350</td>\n",
       "    </tr>\n",
       "    <tr>\n",
       "      <th>9</th>\n",
       "      <td>Detroit</td>\n",
       "      <td>Tigers</td>\n",
       "      <td>Comerica Park</td>\n",
       "      <td>95.8</td>\n",
       "      <td>28.5</td>\n",
       "      <td>39.9</td>\n",
       "      <td>27.4</td>\n",
       "      <td>DET</td>\n",
       "      <td>596</td>\n",
       "      <td>345</td>\n",
       "      <td>420</td>\n",
       "      <td>330</td>\n",
       "    </tr>\n",
       "    <tr>\n",
       "      <th>10</th>\n",
       "      <td>Houston</td>\n",
       "      <td>Astros</td>\n",
       "      <td>Minute Maid Park</td>\n",
       "      <td>88.6</td>\n",
       "      <td>23.2</td>\n",
       "      <td>38.8</td>\n",
       "      <td>26.6</td>\n",
       "      <td>HOU</td>\n",
       "      <td>38</td>\n",
       "      <td>315</td>\n",
       "      <td>409</td>\n",
       "      <td>326</td>\n",
       "    </tr>\n",
       "    <tr>\n",
       "      <th>11</th>\n",
       "      <td>Kansas City</td>\n",
       "      <td>Royals</td>\n",
       "      <td>Kauffman Stadium</td>\n",
       "      <td>97.9</td>\n",
       "      <td>30.4</td>\n",
       "      <td>36.9</td>\n",
       "      <td>30.5</td>\n",
       "      <td>KCR</td>\n",
       "      <td>750</td>\n",
       "      <td>330</td>\n",
       "      <td>410</td>\n",
       "      <td>330</td>\n",
       "    </tr>\n",
       "    <tr>\n",
       "      <th>12</th>\n",
       "      <td>Los Angeles</td>\n",
       "      <td>Angels</td>\n",
       "      <td>Angel Stadium</td>\n",
       "      <td>89.2</td>\n",
       "      <td>29.0</td>\n",
       "      <td>32.7</td>\n",
       "      <td>27.5</td>\n",
       "      <td>LAA</td>\n",
       "      <td>160</td>\n",
       "      <td>347</td>\n",
       "      <td>396</td>\n",
       "      <td>350</td>\n",
       "    </tr>\n",
       "    <tr>\n",
       "      <th>13</th>\n",
       "      <td>Los Angeles</td>\n",
       "      <td>Dodgers</td>\n",
       "      <td>Dodger Stadium</td>\n",
       "      <td>91.1</td>\n",
       "      <td>28.8</td>\n",
       "      <td>33.8</td>\n",
       "      <td>28.5</td>\n",
       "      <td>LAD</td>\n",
       "      <td>267</td>\n",
       "      <td>330</td>\n",
       "      <td>395</td>\n",
       "      <td>330</td>\n",
       "    </tr>\n",
       "    <tr>\n",
       "      <th>14</th>\n",
       "      <td>Miami</td>\n",
       "      <td>Marlins</td>\n",
       "      <td>Marlins Park</td>\n",
       "      <td>93.4</td>\n",
       "      <td>28.3</td>\n",
       "      <td>36.9</td>\n",
       "      <td>28.3</td>\n",
       "      <td>MIA</td>\n",
       "      <td>15</td>\n",
       "      <td>344</td>\n",
       "      <td>407</td>\n",
       "      <td>335</td>\n",
       "    </tr>\n",
       "    <tr>\n",
       "      <th>15</th>\n",
       "      <td>Milwaukee</td>\n",
       "      <td>Brewers</td>\n",
       "      <td>Miller Park</td>\n",
       "      <td>91.1</td>\n",
       "      <td>28.9</td>\n",
       "      <td>34.6</td>\n",
       "      <td>27.6</td>\n",
       "      <td>MIL</td>\n",
       "      <td>593</td>\n",
       "      <td>344</td>\n",
       "      <td>400</td>\n",
       "      <td>345</td>\n",
       "    </tr>\n",
       "    <tr>\n",
       "      <th>16</th>\n",
       "      <td>Minnesota</td>\n",
       "      <td>Twins</td>\n",
       "      <td>Target Field</td>\n",
       "      <td>90.4</td>\n",
       "      <td>28.0</td>\n",
       "      <td>35.8</td>\n",
       "      <td>26.6</td>\n",
       "      <td>MIN</td>\n",
       "      <td>812</td>\n",
       "      <td>339</td>\n",
       "      <td>411</td>\n",
       "      <td>328</td>\n",
       "    </tr>\n",
       "    <tr>\n",
       "      <th>17</th>\n",
       "      <td>New York</td>\n",
       "      <td>Mets</td>\n",
       "      <td>Citi Field</td>\n",
       "      <td>91.5</td>\n",
       "      <td>27.1</td>\n",
       "      <td>36.0</td>\n",
       "      <td>28.4</td>\n",
       "      <td>NYM</td>\n",
       "      <td>54</td>\n",
       "      <td>335</td>\n",
       "      <td>408</td>\n",
       "      <td>330</td>\n",
       "    </tr>\n",
       "    <tr>\n",
       "      <th>18</th>\n",
       "      <td>New York</td>\n",
       "      <td>Yankees</td>\n",
       "      <td>Yankee Stadium</td>\n",
       "      <td>87.6</td>\n",
       "      <td>27.7</td>\n",
       "      <td>35.6</td>\n",
       "      <td>24.2</td>\n",
       "      <td>NYY</td>\n",
       "      <td>54</td>\n",
       "      <td>318</td>\n",
       "      <td>408</td>\n",
       "      <td>314</td>\n",
       "    </tr>\n",
       "    <tr>\n",
       "      <th>19</th>\n",
       "      <td>Oakland</td>\n",
       "      <td>Athletics</td>\n",
       "      <td>O.co Coliseum</td>\n",
       "      <td>88.4</td>\n",
       "      <td>27.5</td>\n",
       "      <td>33.4</td>\n",
       "      <td>27.5</td>\n",
       "      <td>OAK</td>\n",
       "      <td>42</td>\n",
       "      <td>330</td>\n",
       "      <td>400</td>\n",
       "      <td>330</td>\n",
       "    </tr>\n",
       "    <tr>\n",
       "      <th>20</th>\n",
       "      <td>Philadelphia</td>\n",
       "      <td>Phillies</td>\n",
       "      <td>Citizens Bank Park</td>\n",
       "      <td>86.2</td>\n",
       "      <td>25.7</td>\n",
       "      <td>34.9</td>\n",
       "      <td>25.5</td>\n",
       "      <td>PHI</td>\n",
       "      <td>9</td>\n",
       "      <td>334</td>\n",
       "      <td>401</td>\n",
       "      <td>330</td>\n",
       "    </tr>\n",
       "    <tr>\n",
       "      <th>21</th>\n",
       "      <td>Pittsburgh</td>\n",
       "      <td>Pirates</td>\n",
       "      <td>PNC Park</td>\n",
       "      <td>90.2</td>\n",
       "      <td>29.8</td>\n",
       "      <td>33.9</td>\n",
       "      <td>26.5</td>\n",
       "      <td>PIT</td>\n",
       "      <td>743</td>\n",
       "      <td>325</td>\n",
       "      <td>399</td>\n",
       "      <td>320</td>\n",
       "    </tr>\n",
       "    <tr>\n",
       "      <th>22</th>\n",
       "      <td>San Diego</td>\n",
       "      <td>Padres</td>\n",
       "      <td>PETCO Park</td>\n",
       "      <td>90.8</td>\n",
       "      <td>27.9</td>\n",
       "      <td>35.0</td>\n",
       "      <td>27.8</td>\n",
       "      <td>SDP</td>\n",
       "      <td>13</td>\n",
       "      <td>336</td>\n",
       "      <td>396</td>\n",
       "      <td>322</td>\n",
       "    </tr>\n",
       "    <tr>\n",
       "      <th>23</th>\n",
       "      <td>San Francisco</td>\n",
       "      <td>Giants</td>\n",
       "      <td>AT&amp;T Park</td>\n",
       "      <td>92.2</td>\n",
       "      <td>27.3</td>\n",
       "      <td>36.2</td>\n",
       "      <td>28.7</td>\n",
       "      <td>SFG</td>\n",
       "      <td>63</td>\n",
       "      <td>339</td>\n",
       "      <td>399</td>\n",
       "      <td>309</td>\n",
       "    </tr>\n",
       "    <tr>\n",
       "      <th>24</th>\n",
       "      <td>Seattle</td>\n",
       "      <td>Mariners</td>\n",
       "      <td>Safeco Field</td>\n",
       "      <td>87.8</td>\n",
       "      <td>27.2</td>\n",
       "      <td>34.2</td>\n",
       "      <td>26.4</td>\n",
       "      <td>SEA</td>\n",
       "      <td>10</td>\n",
       "      <td>331</td>\n",
       "      <td>401</td>\n",
       "      <td>326</td>\n",
       "    </tr>\n",
       "    <tr>\n",
       "      <th>25</th>\n",
       "      <td>St. Louis</td>\n",
       "      <td>Cardinals</td>\n",
       "      <td>Busch Stadium</td>\n",
       "      <td>91.1</td>\n",
       "      <td>28.6</td>\n",
       "      <td>34.1</td>\n",
       "      <td>28.4</td>\n",
       "      <td>STL</td>\n",
       "      <td>455</td>\n",
       "      <td>336</td>\n",
       "      <td>400</td>\n",
       "      <td>335</td>\n",
       "    </tr>\n",
       "    <tr>\n",
       "      <th>26</th>\n",
       "      <td>Tampa Bay</td>\n",
       "      <td>Rays</td>\n",
       "      <td>Tropicana Field</td>\n",
       "      <td>89.6</td>\n",
       "      <td>27.4</td>\n",
       "      <td>36.5</td>\n",
       "      <td>25.7</td>\n",
       "      <td>TBR</td>\n",
       "      <td>44</td>\n",
       "      <td>315</td>\n",
       "      <td>404</td>\n",
       "      <td>322</td>\n",
       "    </tr>\n",
       "    <tr>\n",
       "      <th>27</th>\n",
       "      <td>Texas</td>\n",
       "      <td>Rangers</td>\n",
       "      <td>Globe Life Park in Arlington</td>\n",
       "      <td>92.7</td>\n",
       "      <td>28.9</td>\n",
       "      <td>36.1</td>\n",
       "      <td>27.7</td>\n",
       "      <td>TEX</td>\n",
       "      <td>616</td>\n",
       "      <td>332</td>\n",
       "      <td>404</td>\n",
       "      <td>326</td>\n",
       "    </tr>\n",
       "    <tr>\n",
       "      <th>28</th>\n",
       "      <td>Toronto</td>\n",
       "      <td>Blue Jays</td>\n",
       "      <td>Rogers Centre</td>\n",
       "      <td>91.8</td>\n",
       "      <td>27.9</td>\n",
       "      <td>35.9</td>\n",
       "      <td>27.9</td>\n",
       "      <td>TOR</td>\n",
       "      <td>247</td>\n",
       "      <td>328</td>\n",
       "      <td>400</td>\n",
       "      <td>328</td>\n",
       "    </tr>\n",
       "    <tr>\n",
       "      <th>29</th>\n",
       "      <td>Washington</td>\n",
       "      <td>Nationals</td>\n",
       "      <td>Nationals Park</td>\n",
       "      <td>88.8</td>\n",
       "      <td>28.2</td>\n",
       "      <td>32.8</td>\n",
       "      <td>27.8</td>\n",
       "      <td>WSN</td>\n",
       "      <td>25</td>\n",
       "      <td>336</td>\n",
       "      <td>402</td>\n",
       "      <td>335</td>\n",
       "    </tr>\n",
       "  </tbody>\n",
       "</table>\n",
       "</div>"
      ],
      "text/plain": [
       "             City          Team                       Stadium    OF    LF  \\\n",
       "0         Arizona  Diamondbacks                   Chase Field  94.1  28.7   \n",
       "1         Atlanta        Braves                 SunTrust Park   NaN   NaN   \n",
       "2       Baltimore       Orioles   Oriole Park at Camden Yards  87.8  27.1   \n",
       "3          Boston       Red Sox                   Fenway Park  83.5  21.1   \n",
       "4         Chicago          Cubs                 Wrigley Field  89.7  26.8   \n",
       "5         Chicago     White Sox         Guaranteed Rate Field  87.8  26.5   \n",
       "6      Cincinnati          Reds      Great American Ball Park  87.1  26.7   \n",
       "7       Cleveland       Indians             Progressive Field  85.6  25.8   \n",
       "8        Colorado       Rockies                   Coors Field  97.3  30.2   \n",
       "9         Detroit        Tigers                 Comerica Park  95.8  28.5   \n",
       "10        Houston        Astros              Minute Maid Park  88.6  23.2   \n",
       "11    Kansas City        Royals              Kauffman Stadium  97.9  30.4   \n",
       "12    Los Angeles        Angels                 Angel Stadium  89.2  29.0   \n",
       "13    Los Angeles       Dodgers                Dodger Stadium  91.1  28.8   \n",
       "14          Miami       Marlins                  Marlins Park  93.4  28.3   \n",
       "15      Milwaukee       Brewers                   Miller Park  91.1  28.9   \n",
       "16      Minnesota         Twins                  Target Field  90.4  28.0   \n",
       "17       New York          Mets                    Citi Field  91.5  27.1   \n",
       "18       New York       Yankees                Yankee Stadium  87.6  27.7   \n",
       "19        Oakland     Athletics                 O.co Coliseum  88.4  27.5   \n",
       "20   Philadelphia      Phillies            Citizens Bank Park  86.2  25.7   \n",
       "21     Pittsburgh       Pirates                      PNC Park  90.2  29.8   \n",
       "22      San Diego        Padres                    PETCO Park  90.8  27.9   \n",
       "23  San Francisco        Giants                     AT&T Park  92.2  27.3   \n",
       "24        Seattle      Mariners                  Safeco Field  87.8  27.2   \n",
       "25      St. Louis     Cardinals                 Busch Stadium  91.1  28.6   \n",
       "26      Tampa Bay          Rays               Tropicana Field  89.6  27.4   \n",
       "27          Texas       Rangers  Globe Life Park in Arlington  92.7  28.9   \n",
       "28        Toronto     Blue Jays                 Rogers Centre  91.8  27.9   \n",
       "29     Washington     Nationals                Nationals Park  88.8  28.2   \n",
       "\n",
       "      CF    RF Abbrev  Elev  Dist_LF  Dist_CF  Dist_RF  \n",
       "0   36.2  29.2    ARI  1082      330      407      335  \n",
       "1    NaN   NaN    ATL  1050      335      400      330  \n",
       "2   34.4  26.3    BAL   130      333      410      318  \n",
       "3   32.8  29.6    BOS    20      310      390      302  \n",
       "4   34.1  28.8    CHC   596      355      400      353  \n",
       "5   34.2  27.2    CHW   596      330      400      335  \n",
       "6   34.5  26.0    CIN   683      328      404      325  \n",
       "7   33.2  26.6    CLE   582      325      400      325  \n",
       "8   38.3  28.8    COL  5183      347      415      350  \n",
       "9   39.9  27.4    DET   596      345      420      330  \n",
       "10  38.8  26.6    HOU    38      315      409      326  \n",
       "11  36.9  30.5    KCR   750      330      410      330  \n",
       "12  32.7  27.5    LAA   160      347      396      350  \n",
       "13  33.8  28.5    LAD   267      330      395      330  \n",
       "14  36.9  28.3    MIA    15      344      407      335  \n",
       "15  34.6  27.6    MIL   593      344      400      345  \n",
       "16  35.8  26.6    MIN   812      339      411      328  \n",
       "17  36.0  28.4    NYM    54      335      408      330  \n",
       "18  35.6  24.2    NYY    54      318      408      314  \n",
       "19  33.4  27.5    OAK    42      330      400      330  \n",
       "20  34.9  25.5    PHI     9      334      401      330  \n",
       "21  33.9  26.5    PIT   743      325      399      320  \n",
       "22  35.0  27.8    SDP    13      336      396      322  \n",
       "23  36.2  28.7    SFG    63      339      399      309  \n",
       "24  34.2  26.4    SEA    10      331      401      326  \n",
       "25  34.1  28.4    STL   455      336      400      335  \n",
       "26  36.5  25.7    TBR    44      315      404      322  \n",
       "27  36.1  27.7    TEX   616      332      404      326  \n",
       "28  35.9  27.9    TOR   247      328      400      328  \n",
       "29  32.8  27.8    WSN    25      336      402      335  "
      ]
     },
     "execution_count": 52,
     "metadata": {},
     "output_type": "execute_result"
    }
   ],
   "source": [
    "stad_df"
   ]
  },
  {
   "cell_type": "code",
   "execution_count": 53,
   "metadata": {},
   "outputs": [
    {
     "name": "stdout",
     "output_type": "stream",
     "text": [
      "83.5\n",
      "97.9\n",
      "14.400000000000006\n"
     ]
    }
   ],
   "source": [
    "print(stad_df['OF'].min())\n",
    "print(stad_df['OF'].max())\n",
    "print(stad_df['OF'].max()-stad_df['OF'].min())"
   ]
  },
  {
   "cell_type": "code",
   "execution_count": 54,
   "metadata": {
    "collapsed": true
   },
   "outputs": [],
   "source": [
    "# Difference equivalent to a 120' x 120' = 14,400 ft^2\n",
    "# Difference equivalent to 40 yds x 40 yds (Football field is 53-1/3 yds wide)"
   ]
  },
  {
   "cell_type": "code",
   "execution_count": 55,
   "metadata": {
    "collapsed": true
   },
   "outputs": [],
   "source": [
    "stad_df.set_index('Stadium', drop=False, inplace=True)"
   ]
  },
  {
   "cell_type": "markdown",
   "metadata": {},
   "source": [
    "## End of Stadium DataFrame"
   ]
  },
  {
   "cell_type": "code",
   "execution_count": 56,
   "metadata": {
    "collapsed": true
   },
   "outputs": [],
   "source": [
    "# Make Stadium dictionary so we can append to tb\n",
    "stadiums = {}\n",
    "for i in stad_df.index:\n",
    "    stadiums[stad_df.loc[i]['Abbrev']] = stad_df.loc[i]['Stadium']"
   ]
  },
  {
   "cell_type": "code",
   "execution_count": 57,
   "metadata": {
    "scrolled": true
   },
   "outputs": [
    {
     "data": {
      "text/plain": [
       "{'ARI': 'Chase Field',\n",
       " 'ATL': 'SunTrust Park',\n",
       " 'BAL': 'Oriole Park at Camden Yards',\n",
       " 'BOS': 'Fenway Park',\n",
       " 'CHC': 'Wrigley Field',\n",
       " 'CHW': 'Guaranteed Rate Field',\n",
       " 'CIN': 'Great American Ball Park',\n",
       " 'CLE': 'Progressive Field',\n",
       " 'COL': 'Coors Field',\n",
       " 'DET': 'Comerica Park',\n",
       " 'HOU': 'Minute Maid Park',\n",
       " 'KCR': 'Kauffman Stadium',\n",
       " 'LAA': 'Angel Stadium',\n",
       " 'LAD': 'Dodger Stadium',\n",
       " 'MIA': 'Marlins Park',\n",
       " 'MIL': 'Miller Park',\n",
       " 'MIN': 'Target Field',\n",
       " 'NYM': 'Citi Field',\n",
       " 'NYY': 'Yankee Stadium',\n",
       " 'OAK': 'O.co Coliseum',\n",
       " 'PHI': 'Citizens Bank Park',\n",
       " 'PIT': 'PNC Park',\n",
       " 'SDP': 'PETCO Park',\n",
       " 'SEA': 'Safeco Field',\n",
       " 'SFG': 'AT&T Park',\n",
       " 'STL': 'Busch Stadium',\n",
       " 'TBR': 'Tropicana Field',\n",
       " 'TEX': 'Globe Life Park in Arlington',\n",
       " 'TOR': 'Rogers Centre',\n",
       " 'WSN': 'Nationals Park'}"
      ]
     },
     "execution_count": 57,
     "metadata": {},
     "output_type": "execute_result"
    }
   ],
   "source": [
    "stadiums"
   ]
  },
  {
   "cell_type": "code",
   "execution_count": 58,
   "metadata": {
    "collapsed": true
   },
   "outputs": [],
   "source": [
    "# Assign stadium in 'tb', we will build up from there\n",
    "stad_list = []\n",
    "for i in tb.index:\n",
    "    if tb.loc[i]['Home?'] == 1:\n",
    "        stad_list.append(stadiums[tb.loc[i]['Tm']])\n",
    "    else:\n",
    "        stad_list.append(stadiums[tb.loc[i]['Opp']])\n",
    "        \n",
    "tb['Stad'] = stad_list"
   ]
  },
  {
   "cell_type": "code",
   "execution_count": 59,
   "metadata": {
    "collapsed": true
   },
   "outputs": [],
   "source": [
    "# Extract Doubleheader information from date, and make its own feature\n",
    "tb['Game#'] = tb['Date'].apply(lambda x: int(x[-2]) if x[-1]==')' else 1)\n",
    "tp['Game#'] = tp['Date'].apply(lambda x: int(x[-2]) if x[-1]==')' else 1)\n",
    "pp['Game#'] = pp['Date'].apply(lambda x: int(x[-2]) if x[-1]==')' else 1)"
   ]
  },
  {
   "cell_type": "code",
   "execution_count": 60,
   "metadata": {
    "collapsed": true
   },
   "outputs": [],
   "source": [
    "# Remove Doubleheader information from date\n",
    "tb['Date'] = tb['Date'].apply(lambda x: x[:10])\n",
    "tp['Date'] = tp['Date'].apply(lambda x: x[:10])\n",
    "pp['Date'] = pp['Date'].apply(lambda x: x[:10])"
   ]
  },
  {
   "cell_type": "code",
   "execution_count": 61,
   "metadata": {
    "collapsed": true
   },
   "outputs": [],
   "source": [
    "# Make Date a datetime type\n",
    "tb['Date'] = pd.to_datetime(tb['Date'])\n",
    "tp['Date'] = pd.to_datetime(tp['Date'])\n",
    "pp['Date'] = pd.to_datetime(pp['Date'])"
   ]
  },
  {
   "cell_type": "code",
   "execution_count": 62,
   "metadata": {
    "collapsed": true,
    "scrolled": true
   },
   "outputs": [],
   "source": [
    "# Extract Win/Loss information from 'Rslt', and make its own feature\n",
    "tb['Win/Loss'] = tb['Rslt'].apply(lambda x: 1 if x[0]=='W' else 0)\n",
    "tp['Win/Loss'] = tp['Rslt'].apply(lambda x: 1 if x[0]=='W' else 0)\n",
    "pp['Win/Loss'] = pp['Rslt'].apply(lambda x: 1 if x[0]=='W' else 0)"
   ]
  },
  {
   "cell_type": "code",
   "execution_count": 63,
   "metadata": {
    "collapsed": true
   },
   "outputs": [],
   "source": [
    "# Create Strikes-per-pitch, possible indicator of pitcher strength\n",
    "tp['Str/Pit'] = tp['Str'] / tp['Pit']\n",
    "pp['Str/Pit'] = pp['Str'] / pp['Pit']"
   ]
  },
  {
   "cell_type": "code",
   "execution_count": 64,
   "metadata": {
    "collapsed": true
   },
   "outputs": [],
   "source": [
    "# Create BattersFaced-per-inning-pitched, better pitches will face fewer batters\n",
    "tp['BF/IP'] = tp['BF'] / tp['IP']\n",
    "pp['BF/IP'] = pp['BF'] / pp['IP']"
   ]
  },
  {
   "cell_type": "code",
   "execution_count": 65,
   "metadata": {
    "collapsed": true,
    "scrolled": true
   },
   "outputs": [],
   "source": [
    "# Let's Drop the 2nd game of doubleheaders to simplify \n",
    "tb = tb[tb['Game#'].apply(lambda x: True if x==1 else False)]\n",
    "tp = tp[tp['Game#'].apply(lambda x: True if x==1 else False)]\n",
    "pp = pp[pp['Game#'].apply(lambda x: True if x==1 else False)]"
   ]
  },
  {
   "cell_type": "code",
   "execution_count": 66,
   "metadata": {},
   "outputs": [
    {
     "ename": "NameError",
     "evalue": "name 'team_bat_avg' is not defined",
     "output_type": "error",
     "traceback": [
      "\u001b[0;31m---------------------------------------------------------------------------\u001b[0m",
      "\u001b[0;31mNameError\u001b[0m                                 Traceback (most recent call last)",
      "\u001b[0;32m<ipython-input-66-99a2d4b7834f>\u001b[0m in \u001b[0;36m<module>\u001b[0;34m()\u001b[0m\n\u001b[1;32m      2\u001b[0m \u001b[0mbat_avg_list\u001b[0m \u001b[0;34m=\u001b[0m \u001b[0;34m[\u001b[0m\u001b[0;34m]\u001b[0m\u001b[0;34m\u001b[0m\u001b[0m\n\u001b[1;32m      3\u001b[0m \u001b[0;32mfor\u001b[0m \u001b[0mi\u001b[0m \u001b[0;32min\u001b[0m \u001b[0mtb\u001b[0m\u001b[0;34m.\u001b[0m\u001b[0mindex\u001b[0m\u001b[0;34m:\u001b[0m\u001b[0;34m\u001b[0m\u001b[0m\n\u001b[0;32m----> 4\u001b[0;31m     \u001b[0mbat_avg_list\u001b[0m\u001b[0;34m.\u001b[0m\u001b[0mappend\u001b[0m\u001b[0;34m(\u001b[0m\u001b[0mteam_bat_avg\u001b[0m\u001b[0;34m[\u001b[0m\u001b[0mtb\u001b[0m\u001b[0;34m.\u001b[0m\u001b[0mloc\u001b[0m\u001b[0;34m[\u001b[0m\u001b[0mi\u001b[0m\u001b[0;34m]\u001b[0m\u001b[0;34m[\u001b[0m\u001b[0;34m'Tm'\u001b[0m\u001b[0;34m]\u001b[0m\u001b[0;34m]\u001b[0m\u001b[0;34m)\u001b[0m\u001b[0;34m\u001b[0m\u001b[0m\n\u001b[0m\u001b[1;32m      5\u001b[0m \u001b[0mtb\u001b[0m\u001b[0;34m[\u001b[0m\u001b[0;34m'Static_bat_avg'\u001b[0m\u001b[0;34m]\u001b[0m \u001b[0;34m=\u001b[0m \u001b[0mbat_avg_list\u001b[0m\u001b[0;34m\u001b[0m\u001b[0m\n\u001b[1;32m      6\u001b[0m \u001b[0;34m\u001b[0m\u001b[0m\n",
      "\u001b[0;31mNameError\u001b[0m: name 'team_bat_avg' is not defined"
     ]
    }
   ],
   "source": [
    "# Generate some additional features \n",
    "bat_avg_list = []\n",
    "for i in tb.index:\n",
    "    bat_avg_list.append(team_bat_avg[tb.loc[i]['Tm']])\n",
    "tb['Static_bat_avg'] = bat_avg_list\n",
    "\n",
    "expect_list = []\n",
    "for i in tb.index:\n",
    "    expect_list.append(tb.loc[i]['Static_bat_avg'] * tb.loc[i]['AB'])\n",
    "tb['Expected_Hits'] = expect_list\n",
    "\n",
    "hit_dif_list = []\n",
    "for i in tb.index:\n",
    "    hit_dif_list.append(tb.loc[i]['H'] - tb.loc[i]['Expected_Hits'])\n",
    "tb['Hit+/-'] = hit_dif_list"
   ]
  },
  {
   "cell_type": "code",
   "execution_count": 67,
   "metadata": {},
   "outputs": [
    {
     "name": "stdout",
     "output_type": "stream",
     "text": [
      "(5744, 38)\n",
      "(5744, 47)\n",
      "(5744, 49)\n"
     ]
    }
   ],
   "source": [
    "print(tb.shape)\n",
    "print(tp.shape)\n",
    "print(pp.shape)"
   ]
  },
  {
   "cell_type": "markdown",
   "metadata": {},
   "source": [
    "## Handling Null Values"
   ]
  },
  {
   "cell_type": "code",
   "execution_count": 28,
   "metadata": {
    "collapsed": true
   },
   "outputs": [],
   "source": [
    "# Assign 'WindDir' as 'none' wherever 'WindSpd' = 0\n",
    "new_WindDir = []\n",
    "for i in tb.index:\n",
    "    if tb.loc[i]['WindSpd'] == 0:\n",
    "        new_WindDir.append('none')\n",
    "    else:\n",
    "        new_WindDir.append(tb.loc[i]['WindDir'])\n",
    "tb['WindDir'] = new_WindDir\n",
    "\n",
    "#------------------------------\n",
    "\n",
    "new_WindDir = []\n",
    "for i in tp.index:\n",
    "    if tp.loc[i]['WindSpd'] == 0:\n",
    "        new_WindDir.append('none')\n",
    "    else:\n",
    "        new_WindDir.append(tp.loc[i]['WindDir'])\n",
    "tp['WindDir'] = new_WindDir   \n",
    "\n",
    "#-------------------------------\n",
    "\n",
    "new_WindDir = []\n",
    "for i in pp.index:\n",
    "    if pp.loc[i]['WindSpd'] == 0:\n",
    "        new_WindDir.append('none')\n",
    "    else:\n",
    "        new_WindDir.append(pp.loc[i]['WindDir'])\n",
    "pp['WindDir'] = new_WindDir   "
   ]
  },
  {
   "cell_type": "code",
   "execution_count": 29,
   "metadata": {
    "scrolled": true
   },
   "outputs": [
    {
     "data": {
      "text/plain": [
       "Date             0\n",
       "Tm               0\n",
       "Opp              0\n",
       "Rslt             0\n",
       "PA               0\n",
       "AB               0\n",
       "R                0\n",
       "H                0\n",
       "2B               0\n",
       "3B               0\n",
       "HR               0\n",
       "RBI              0\n",
       "BB               0\n",
       "IBB              0\n",
       "SO               0\n",
       "HBP              0\n",
       "SH               0\n",
       "SF               0\n",
       "ROE              0\n",
       "GDP              0\n",
       "SB               0\n",
       "CS               0\n",
       "WPA              2\n",
       "RE24             2\n",
       "aLI              2\n",
       "LOB              0\n",
       "#                0\n",
       "Attendance      30\n",
       "GmLen            0\n",
       "Temp             0\n",
       "WindDir        220\n",
       "WindSpd          0\n",
       "Prec          4040\n",
       "Sky            786\n",
       "Home?            0\n",
       "Stad             0\n",
       "Game#            0\n",
       "Win/Loss         0\n",
       "dtype: int64"
      ]
     },
     "execution_count": 29,
     "metadata": {},
     "output_type": "execute_result"
    }
   ],
   "source": [
    "tb.isnull().sum()"
   ]
  },
  {
   "cell_type": "markdown",
   "metadata": {
    "collapsed": true
   },
   "source": [
    "### Notes\n",
    "- A lot of missing 'Precipitation' data. We might set these to 'none' until we can incorporate from another source\n",
    "- Okay to drop balance of 'WindDir' nulls\n",
    "- Not sure yet how to handle 'Sky'"
   ]
  },
  {
   "cell_type": "code",
   "execution_count": 30,
   "metadata": {},
   "outputs": [
    {
     "data": {
      "text/plain": [
       "array(['tolf', 'tocf', 'rtol', 'ltor', 'torf', 'fromcf', 'fromrf',\n",
       "       'fromlf', nan, 'none'], dtype=object)"
      ]
     },
     "execution_count": 30,
     "metadata": {},
     "output_type": "execute_result"
    }
   ],
   "source": [
    "tb['WindDir'].unique()"
   ]
  },
  {
   "cell_type": "code",
   "execution_count": 31,
   "metadata": {},
   "outputs": [
    {
     "data": {
      "text/plain": [
       "array(['none', 'rain', 'drizzle', nan, 'snow'], dtype=object)"
      ]
     },
     "execution_count": 31,
     "metadata": {},
     "output_type": "execute_result"
    }
   ],
   "source": [
    "tb['Prec'].unique()"
   ]
  },
  {
   "cell_type": "code",
   "execution_count": 32,
   "metadata": {},
   "outputs": [
    {
     "data": {
      "text/plain": [
       "array(['cloudy', 'night', 'overcast', 'dome', 'sunny', nan], dtype=object)"
      ]
     },
     "execution_count": 32,
     "metadata": {},
     "output_type": "execute_result"
    }
   ],
   "source": [
    "tb['Sky'].unique()"
   ]
  },
  {
   "cell_type": "markdown",
   "metadata": {},
   "source": [
    "#### May come back to find better handle of missing 'Prec' and 'Sky'"
   ]
  },
  {
   "cell_type": "code",
   "execution_count": 33,
   "metadata": {
    "collapsed": true
   },
   "outputs": [],
   "source": [
    "# Assign 'Prec' nulls as 'none'\n",
    "new_Prec = []\n",
    "for i in tb.index:\n",
    "    if pd.isnull(tb.loc[i]['Prec']):\n",
    "        new_Prec.append('none')\n",
    "    else:\n",
    "        new_Prec.append(tb.loc[i]['Prec'])\n",
    "tb['Prec'] = new_Prec\n",
    "        \n",
    "#------------------------------\n",
    "    \n",
    "new_Prec = []\n",
    "for i in tp.index:\n",
    "    if pd.isnull(tp.loc[i]['Prec']):\n",
    "        new_Prec.append('none')\n",
    "    else:\n",
    "        new_Prec.append(tp.loc[i]['Prec'])\n",
    "tp['Prec'] = new_Prec\n",
    "\n",
    "#------------------------------\n",
    "        \n",
    "new_Prec = []\n",
    "for i in pp.index:\n",
    "    if pd.isnull(pp.loc[i]['Prec']):\n",
    "        new_Prec.append('none')\n",
    "    else:\n",
    "        new_Prec.append(pp.loc[i]['Prec'])\n",
    "pp['Prec'] = new_Prec"
   ]
  },
  {
   "cell_type": "code",
   "execution_count": 34,
   "metadata": {
    "scrolled": true
   },
   "outputs": [
    {
     "data": {
      "text/plain": [
       "Date            0\n",
       "Tm              0\n",
       "Opp             0\n",
       "Rslt            0\n",
       "PA              0\n",
       "AB              0\n",
       "R               0\n",
       "H               0\n",
       "2B              0\n",
       "3B              0\n",
       "HR              0\n",
       "RBI             0\n",
       "BB              0\n",
       "IBB             0\n",
       "SO              0\n",
       "HBP             0\n",
       "SH              0\n",
       "SF              0\n",
       "ROE             0\n",
       "GDP             0\n",
       "SB              0\n",
       "CS              0\n",
       "WPA             2\n",
       "RE24            2\n",
       "aLI             2\n",
       "LOB             0\n",
       "#               0\n",
       "Attendance     30\n",
       "GmLen           0\n",
       "Temp            0\n",
       "WindDir       220\n",
       "WindSpd         0\n",
       "Prec            0\n",
       "Sky           786\n",
       "Home?           0\n",
       "Stad            0\n",
       "Game#           0\n",
       "Win/Loss        0\n",
       "dtype: int64"
      ]
     },
     "execution_count": 34,
     "metadata": {},
     "output_type": "execute_result"
    }
   ],
   "source": [
    "tb.isnull().sum()"
   ]
  },
  {
   "cell_type": "code",
   "execution_count": 35,
   "metadata": {
    "collapsed": true
   },
   "outputs": [],
   "source": [
    "# We will drop 'Sky' nulls at Modeling step"
   ]
  },
  {
   "cell_type": "markdown",
   "metadata": {},
   "source": [
    "## Sort DataFrames"
   ]
  },
  {
   "cell_type": "code",
   "execution_count": 36,
   "metadata": {
    "collapsed": true
   },
   "outputs": [],
   "source": [
    "# Sort team df's on Date, and then Team\n",
    "tb.sort_values(['Date', 'Tm'], inplace=True)\n",
    "tp.sort_values(['Date', 'Tm'], inplace=True)\n",
    "pp.sort_values(['Date', 'Player'], inplace=True)\n",
    "\n",
    "tb.reset_index(drop=True, inplace=True)\n",
    "tp.reset_index(drop=True, inplace=True)\n",
    "pp.reset_index(drop=True, inplace=True)"
   ]
  },
  {
   "cell_type": "markdown",
   "metadata": {},
   "source": [
    "## Exploration"
   ]
  },
  {
   "cell_type": "code",
   "execution_count": 37,
   "metadata": {},
   "outputs": [
    {
     "data": {
      "text/plain": [
       "0.2540622720153461"
      ]
     },
     "execution_count": 37,
     "metadata": {},
     "output_type": "execute_result"
    }
   ],
   "source": [
    "all_bat_avg = tb['H'].sum() / tb['AB'].sum()\n",
    "all_bat_avg"
   ]
  },
  {
   "cell_type": "code",
   "execution_count": 40,
   "metadata": {
    "scrolled": true
   },
   "outputs": [
    {
     "ename": "KeyError",
     "evalue": "'Hit+/-'",
     "output_type": "error",
     "traceback": [
      "\u001b[0;31m---------------------------------------------------------------------------\u001b[0m",
      "\u001b[0;31mKeyError\u001b[0m                                  Traceback (most recent call last)",
      "\u001b[0;32m/anaconda3/lib/python3.6/site-packages/pandas/core/indexes/base.py\u001b[0m in \u001b[0;36mget_loc\u001b[0;34m(self, key, method, tolerance)\u001b[0m\n\u001b[1;32m   2441\u001b[0m             \u001b[0;32mtry\u001b[0m\u001b[0;34m:\u001b[0m\u001b[0;34m\u001b[0m\u001b[0m\n\u001b[0;32m-> 2442\u001b[0;31m                 \u001b[0;32mreturn\u001b[0m \u001b[0mself\u001b[0m\u001b[0;34m.\u001b[0m\u001b[0m_engine\u001b[0m\u001b[0;34m.\u001b[0m\u001b[0mget_loc\u001b[0m\u001b[0;34m(\u001b[0m\u001b[0mkey\u001b[0m\u001b[0;34m)\u001b[0m\u001b[0;34m\u001b[0m\u001b[0m\n\u001b[0m\u001b[1;32m   2443\u001b[0m             \u001b[0;32mexcept\u001b[0m \u001b[0mKeyError\u001b[0m\u001b[0;34m:\u001b[0m\u001b[0;34m\u001b[0m\u001b[0m\n",
      "\u001b[0;32mpandas/_libs/index.pyx\u001b[0m in \u001b[0;36mpandas._libs.index.IndexEngine.get_loc\u001b[0;34m()\u001b[0m\n",
      "\u001b[0;32mpandas/_libs/index.pyx\u001b[0m in \u001b[0;36mpandas._libs.index.IndexEngine.get_loc\u001b[0;34m()\u001b[0m\n",
      "\u001b[0;32mpandas/_libs/hashtable_class_helper.pxi\u001b[0m in \u001b[0;36mpandas._libs.hashtable.PyObjectHashTable.get_item\u001b[0;34m()\u001b[0m\n",
      "\u001b[0;32mpandas/_libs/hashtable_class_helper.pxi\u001b[0m in \u001b[0;36mpandas._libs.hashtable.PyObjectHashTable.get_item\u001b[0;34m()\u001b[0m\n",
      "\u001b[0;31mKeyError\u001b[0m: 'Hit+/-'",
      "\nDuring handling of the above exception, another exception occurred:\n",
      "\u001b[0;31mKeyError\u001b[0m                                  Traceback (most recent call last)",
      "\u001b[0;32m<ipython-input-40-641ec614e9b9>\u001b[0m in \u001b[0;36m<module>\u001b[0;34m()\u001b[0m\n\u001b[1;32m      8\u001b[0m     \u001b[0mavg\u001b[0m \u001b[0;34m=\u001b[0m \u001b[0mnum_hits\u001b[0m \u001b[0;34m/\u001b[0m \u001b[0mnum_AB\u001b[0m\u001b[0;34m\u001b[0m\u001b[0m\n\u001b[1;32m      9\u001b[0m \u001b[0;34m\u001b[0m\u001b[0m\n\u001b[0;32m---> 10\u001b[0;31m     \u001b[0mover_under_hits\u001b[0m \u001b[0;34m=\u001b[0m \u001b[0mstad_tb\u001b[0m\u001b[0;34m[\u001b[0m\u001b[0;34m'Hit+/-'\u001b[0m\u001b[0;34m]\u001b[0m\u001b[0;34m.\u001b[0m\u001b[0msum\u001b[0m\u001b[0;34m(\u001b[0m\u001b[0;34m)\u001b[0m\u001b[0;34m\u001b[0m\u001b[0m\n\u001b[0m\u001b[1;32m     11\u001b[0m \u001b[0;34m\u001b[0m\u001b[0m\n\u001b[1;32m     12\u001b[0m     \u001b[0mstad_bat_avg\u001b[0m\u001b[0;34m.\u001b[0m\u001b[0mloc\u001b[0m\u001b[0;34m[\u001b[0m\u001b[0mstadium\u001b[0m\u001b[0;34m]\u001b[0m\u001b[0;34m[\u001b[0m\u001b[0;34m'Avg.'\u001b[0m\u001b[0;34m]\u001b[0m \u001b[0;34m=\u001b[0m \u001b[0mavg\u001b[0m\u001b[0;34m\u001b[0m\u001b[0m\n",
      "\u001b[0;32m/anaconda3/lib/python3.6/site-packages/pandas/core/frame.py\u001b[0m in \u001b[0;36m__getitem__\u001b[0;34m(self, key)\u001b[0m\n\u001b[1;32m   1962\u001b[0m             \u001b[0;32mreturn\u001b[0m \u001b[0mself\u001b[0m\u001b[0;34m.\u001b[0m\u001b[0m_getitem_multilevel\u001b[0m\u001b[0;34m(\u001b[0m\u001b[0mkey\u001b[0m\u001b[0;34m)\u001b[0m\u001b[0;34m\u001b[0m\u001b[0m\n\u001b[1;32m   1963\u001b[0m         \u001b[0;32melse\u001b[0m\u001b[0;34m:\u001b[0m\u001b[0;34m\u001b[0m\u001b[0m\n\u001b[0;32m-> 1964\u001b[0;31m             \u001b[0;32mreturn\u001b[0m \u001b[0mself\u001b[0m\u001b[0;34m.\u001b[0m\u001b[0m_getitem_column\u001b[0m\u001b[0;34m(\u001b[0m\u001b[0mkey\u001b[0m\u001b[0;34m)\u001b[0m\u001b[0;34m\u001b[0m\u001b[0m\n\u001b[0m\u001b[1;32m   1965\u001b[0m \u001b[0;34m\u001b[0m\u001b[0m\n\u001b[1;32m   1966\u001b[0m     \u001b[0;32mdef\u001b[0m \u001b[0m_getitem_column\u001b[0m\u001b[0;34m(\u001b[0m\u001b[0mself\u001b[0m\u001b[0;34m,\u001b[0m \u001b[0mkey\u001b[0m\u001b[0;34m)\u001b[0m\u001b[0;34m:\u001b[0m\u001b[0;34m\u001b[0m\u001b[0m\n",
      "\u001b[0;32m/anaconda3/lib/python3.6/site-packages/pandas/core/frame.py\u001b[0m in \u001b[0;36m_getitem_column\u001b[0;34m(self, key)\u001b[0m\n\u001b[1;32m   1969\u001b[0m         \u001b[0;31m# get column\u001b[0m\u001b[0;34m\u001b[0m\u001b[0;34m\u001b[0m\u001b[0m\n\u001b[1;32m   1970\u001b[0m         \u001b[0;32mif\u001b[0m \u001b[0mself\u001b[0m\u001b[0;34m.\u001b[0m\u001b[0mcolumns\u001b[0m\u001b[0;34m.\u001b[0m\u001b[0mis_unique\u001b[0m\u001b[0;34m:\u001b[0m\u001b[0;34m\u001b[0m\u001b[0m\n\u001b[0;32m-> 1971\u001b[0;31m             \u001b[0;32mreturn\u001b[0m \u001b[0mself\u001b[0m\u001b[0;34m.\u001b[0m\u001b[0m_get_item_cache\u001b[0m\u001b[0;34m(\u001b[0m\u001b[0mkey\u001b[0m\u001b[0;34m)\u001b[0m\u001b[0;34m\u001b[0m\u001b[0m\n\u001b[0m\u001b[1;32m   1972\u001b[0m \u001b[0;34m\u001b[0m\u001b[0m\n\u001b[1;32m   1973\u001b[0m         \u001b[0;31m# duplicate columns & possible reduce dimensionality\u001b[0m\u001b[0;34m\u001b[0m\u001b[0;34m\u001b[0m\u001b[0m\n",
      "\u001b[0;32m/anaconda3/lib/python3.6/site-packages/pandas/core/generic.py\u001b[0m in \u001b[0;36m_get_item_cache\u001b[0;34m(self, item)\u001b[0m\n\u001b[1;32m   1643\u001b[0m         \u001b[0mres\u001b[0m \u001b[0;34m=\u001b[0m \u001b[0mcache\u001b[0m\u001b[0;34m.\u001b[0m\u001b[0mget\u001b[0m\u001b[0;34m(\u001b[0m\u001b[0mitem\u001b[0m\u001b[0;34m)\u001b[0m\u001b[0;34m\u001b[0m\u001b[0m\n\u001b[1;32m   1644\u001b[0m         \u001b[0;32mif\u001b[0m \u001b[0mres\u001b[0m \u001b[0;32mis\u001b[0m \u001b[0;32mNone\u001b[0m\u001b[0;34m:\u001b[0m\u001b[0;34m\u001b[0m\u001b[0m\n\u001b[0;32m-> 1645\u001b[0;31m             \u001b[0mvalues\u001b[0m \u001b[0;34m=\u001b[0m \u001b[0mself\u001b[0m\u001b[0;34m.\u001b[0m\u001b[0m_data\u001b[0m\u001b[0;34m.\u001b[0m\u001b[0mget\u001b[0m\u001b[0;34m(\u001b[0m\u001b[0mitem\u001b[0m\u001b[0;34m)\u001b[0m\u001b[0;34m\u001b[0m\u001b[0m\n\u001b[0m\u001b[1;32m   1646\u001b[0m             \u001b[0mres\u001b[0m \u001b[0;34m=\u001b[0m \u001b[0mself\u001b[0m\u001b[0;34m.\u001b[0m\u001b[0m_box_item_values\u001b[0m\u001b[0;34m(\u001b[0m\u001b[0mitem\u001b[0m\u001b[0;34m,\u001b[0m \u001b[0mvalues\u001b[0m\u001b[0;34m)\u001b[0m\u001b[0;34m\u001b[0m\u001b[0m\n\u001b[1;32m   1647\u001b[0m             \u001b[0mcache\u001b[0m\u001b[0;34m[\u001b[0m\u001b[0mitem\u001b[0m\u001b[0;34m]\u001b[0m \u001b[0;34m=\u001b[0m \u001b[0mres\u001b[0m\u001b[0;34m\u001b[0m\u001b[0m\n",
      "\u001b[0;32m/anaconda3/lib/python3.6/site-packages/pandas/core/internals.py\u001b[0m in \u001b[0;36mget\u001b[0;34m(self, item, fastpath)\u001b[0m\n\u001b[1;32m   3588\u001b[0m \u001b[0;34m\u001b[0m\u001b[0m\n\u001b[1;32m   3589\u001b[0m             \u001b[0;32mif\u001b[0m \u001b[0;32mnot\u001b[0m \u001b[0misnull\u001b[0m\u001b[0;34m(\u001b[0m\u001b[0mitem\u001b[0m\u001b[0;34m)\u001b[0m\u001b[0;34m:\u001b[0m\u001b[0;34m\u001b[0m\u001b[0m\n\u001b[0;32m-> 3590\u001b[0;31m                 \u001b[0mloc\u001b[0m \u001b[0;34m=\u001b[0m \u001b[0mself\u001b[0m\u001b[0;34m.\u001b[0m\u001b[0mitems\u001b[0m\u001b[0;34m.\u001b[0m\u001b[0mget_loc\u001b[0m\u001b[0;34m(\u001b[0m\u001b[0mitem\u001b[0m\u001b[0;34m)\u001b[0m\u001b[0;34m\u001b[0m\u001b[0m\n\u001b[0m\u001b[1;32m   3591\u001b[0m             \u001b[0;32melse\u001b[0m\u001b[0;34m:\u001b[0m\u001b[0;34m\u001b[0m\u001b[0m\n\u001b[1;32m   3592\u001b[0m                 \u001b[0mindexer\u001b[0m \u001b[0;34m=\u001b[0m \u001b[0mnp\u001b[0m\u001b[0;34m.\u001b[0m\u001b[0marange\u001b[0m\u001b[0;34m(\u001b[0m\u001b[0mlen\u001b[0m\u001b[0;34m(\u001b[0m\u001b[0mself\u001b[0m\u001b[0;34m.\u001b[0m\u001b[0mitems\u001b[0m\u001b[0;34m)\u001b[0m\u001b[0;34m)\u001b[0m\u001b[0;34m[\u001b[0m\u001b[0misnull\u001b[0m\u001b[0;34m(\u001b[0m\u001b[0mself\u001b[0m\u001b[0;34m.\u001b[0m\u001b[0mitems\u001b[0m\u001b[0;34m)\u001b[0m\u001b[0;34m]\u001b[0m\u001b[0;34m\u001b[0m\u001b[0m\n",
      "\u001b[0;32m/anaconda3/lib/python3.6/site-packages/pandas/core/indexes/base.py\u001b[0m in \u001b[0;36mget_loc\u001b[0;34m(self, key, method, tolerance)\u001b[0m\n\u001b[1;32m   2442\u001b[0m                 \u001b[0;32mreturn\u001b[0m \u001b[0mself\u001b[0m\u001b[0;34m.\u001b[0m\u001b[0m_engine\u001b[0m\u001b[0;34m.\u001b[0m\u001b[0mget_loc\u001b[0m\u001b[0;34m(\u001b[0m\u001b[0mkey\u001b[0m\u001b[0;34m)\u001b[0m\u001b[0;34m\u001b[0m\u001b[0m\n\u001b[1;32m   2443\u001b[0m             \u001b[0;32mexcept\u001b[0m \u001b[0mKeyError\u001b[0m\u001b[0;34m:\u001b[0m\u001b[0;34m\u001b[0m\u001b[0m\n\u001b[0;32m-> 2444\u001b[0;31m                 \u001b[0;32mreturn\u001b[0m \u001b[0mself\u001b[0m\u001b[0;34m.\u001b[0m\u001b[0m_engine\u001b[0m\u001b[0;34m.\u001b[0m\u001b[0mget_loc\u001b[0m\u001b[0;34m(\u001b[0m\u001b[0mself\u001b[0m\u001b[0;34m.\u001b[0m\u001b[0m_maybe_cast_indexer\u001b[0m\u001b[0;34m(\u001b[0m\u001b[0mkey\u001b[0m\u001b[0;34m)\u001b[0m\u001b[0;34m)\u001b[0m\u001b[0;34m\u001b[0m\u001b[0m\n\u001b[0m\u001b[1;32m   2445\u001b[0m \u001b[0;34m\u001b[0m\u001b[0m\n\u001b[1;32m   2446\u001b[0m         \u001b[0mindexer\u001b[0m \u001b[0;34m=\u001b[0m \u001b[0mself\u001b[0m\u001b[0;34m.\u001b[0m\u001b[0mget_indexer\u001b[0m\u001b[0;34m(\u001b[0m\u001b[0;34m[\u001b[0m\u001b[0mkey\u001b[0m\u001b[0;34m]\u001b[0m\u001b[0;34m,\u001b[0m \u001b[0mmethod\u001b[0m\u001b[0;34m=\u001b[0m\u001b[0mmethod\u001b[0m\u001b[0;34m,\u001b[0m \u001b[0mtolerance\u001b[0m\u001b[0;34m=\u001b[0m\u001b[0mtolerance\u001b[0m\u001b[0;34m)\u001b[0m\u001b[0;34m\u001b[0m\u001b[0m\n",
      "\u001b[0;32mpandas/_libs/index.pyx\u001b[0m in \u001b[0;36mpandas._libs.index.IndexEngine.get_loc\u001b[0;34m()\u001b[0m\n",
      "\u001b[0;32mpandas/_libs/index.pyx\u001b[0m in \u001b[0;36mpandas._libs.index.IndexEngine.get_loc\u001b[0;34m()\u001b[0m\n",
      "\u001b[0;32mpandas/_libs/hashtable_class_helper.pxi\u001b[0m in \u001b[0;36mpandas._libs.hashtable.PyObjectHashTable.get_item\u001b[0;34m()\u001b[0m\n",
      "\u001b[0;32mpandas/_libs/hashtable_class_helper.pxi\u001b[0m in \u001b[0;36mpandas._libs.hashtable.PyObjectHashTable.get_item\u001b[0;34m()\u001b[0m\n",
      "\u001b[0;31mKeyError\u001b[0m: 'Hit+/-'"
     ]
    }
   ],
   "source": [
    "# Determin batting average within each stadiumtb[tb.columns[:]]\n",
    "stad_bat_avg = pd.DataFrame(index=stadiums.values(), columns=['Avg.', 'Hit_Diff'])\n",
    "for stadium in stadiums.values():\n",
    "    stad_tb = tb[tb['Stad']==stadium]\n",
    "    \n",
    "    num_hits = stad_tb['H'].sum()\n",
    "    num_AB = stad_tb['AB'].sum()\n",
    "    avg = num_hits / num_AB\n",
    "    \n",
    "    over_under_hits = stad_tb['Hit+/-'].sum()\n",
    "    \n",
    "    stad_bat_avg.loc[stadium]['Avg.'] = avg\n",
    "    stad_bat_avg.loc[stadium]['Hit_Diff'] = over_under_hits"
   ]
  },
  {
   "cell_type": "code",
   "execution_count": 38,
   "metadata": {},
   "outputs": [
    {
     "ename": "NameError",
     "evalue": "name 'stad_merged' is not defined",
     "output_type": "error",
     "traceback": [
      "\u001b[0;31m---------------------------------------------------------------------------\u001b[0m",
      "\u001b[0;31mNameError\u001b[0m                                 Traceback (most recent call last)",
      "\u001b[0;32m<ipython-input-38-856f6346e067>\u001b[0m in \u001b[0;36m<module>\u001b[0;34m()\u001b[0m\n\u001b[0;32m----> 1\u001b[0;31m \u001b[0mteams\u001b[0m \u001b[0;34m=\u001b[0m \u001b[0mstad_merged\u001b[0m\u001b[0;34m[\u001b[0m\u001b[0;34m'Abbrev'\u001b[0m\u001b[0;34m]\u001b[0m\u001b[0;34m.\u001b[0m\u001b[0munique\u001b[0m\u001b[0;34m(\u001b[0m\u001b[0;34m)\u001b[0m\u001b[0;34m\u001b[0m\u001b[0m\n\u001b[0m\u001b[1;32m      2\u001b[0m \u001b[0mteam_bat_avg\u001b[0m \u001b[0;34m=\u001b[0m \u001b[0;34m{\u001b[0m\u001b[0;34m}\u001b[0m\u001b[0;34m\u001b[0m\u001b[0m\n\u001b[1;32m      3\u001b[0m \u001b[0;32mfor\u001b[0m \u001b[0mteam\u001b[0m \u001b[0;32min\u001b[0m \u001b[0mteams\u001b[0m\u001b[0;34m:\u001b[0m\u001b[0;34m\u001b[0m\u001b[0m\n\u001b[1;32m      4\u001b[0m     \u001b[0mteam_df\u001b[0m \u001b[0;34m=\u001b[0m \u001b[0mtb\u001b[0m\u001b[0;34m[\u001b[0m\u001b[0mtb\u001b[0m\u001b[0;34m[\u001b[0m\u001b[0;34m'Tm'\u001b[0m\u001b[0;34m]\u001b[0m\u001b[0;34m==\u001b[0m\u001b[0mteam\u001b[0m\u001b[0;34m]\u001b[0m\u001b[0;34m\u001b[0m\u001b[0m\n\u001b[1;32m      5\u001b[0m     \u001b[0mavg\u001b[0m \u001b[0;34m=\u001b[0m \u001b[0mteam_df\u001b[0m\u001b[0;34m[\u001b[0m\u001b[0;34m'H'\u001b[0m\u001b[0;34m]\u001b[0m\u001b[0;34m.\u001b[0m\u001b[0msum\u001b[0m\u001b[0;34m(\u001b[0m\u001b[0;34m)\u001b[0m \u001b[0;34m/\u001b[0m \u001b[0mteam_df\u001b[0m\u001b[0;34m[\u001b[0m\u001b[0;34m'AB'\u001b[0m\u001b[0;34m]\u001b[0m\u001b[0;34m.\u001b[0m\u001b[0msum\u001b[0m\u001b[0;34m(\u001b[0m\u001b[0;34m)\u001b[0m\u001b[0;34m\u001b[0m\u001b[0m\n",
      "\u001b[0;31mNameError\u001b[0m: name 'stad_merged' is not defined"
     ]
    }
   ],
   "source": [
    "teams = stad_merged['Abbrev'].unique()\n",
    "team_bat_avg = {}\n",
    "for team in teams:\n",
    "    team_df = tb[tb['Tm']==team]\n",
    "    avg = team_df['H'].sum() / team_df['AB'].sum()\n",
    "    team_bat_avg[team] = avg"
   ]
  },
  {
   "cell_type": "code",
   "execution_count": null,
   "metadata": {
    "scrolled": true
   },
   "outputs": [],
   "source": [
    "team_bat_avg"
   ]
  },
  {
   "cell_type": "code",
   "execution_count": null,
   "metadata": {},
   "outputs": [],
   "source": [
    "tb.head()"
   ]
  },
  {
   "cell_type": "code",
   "execution_count": null,
   "metadata": {
    "scrolled": true
   },
   "outputs": [],
   "source": [
    "stadiums"
   ]
  },
  {
   "cell_type": "code",
   "execution_count": null,
   "metadata": {
    "scrolled": true
   },
   "outputs": [],
   "source": [
    "stad_bat_avg.sort_values('Hit_Diff', ascending=False)"
   ]
  },
  {
   "cell_type": "code",
   "execution_count": null,
   "metadata": {
    "scrolled": true
   },
   "outputs": [],
   "source": [
    "stad_bat_avg.sort_values('Avg.', inplace=True, ascending=False)\n",
    "stad_bat_avg"
   ]
  },
  {
   "cell_type": "code",
   "execution_count": null,
   "metadata": {},
   "outputs": [],
   "source": [
    "stad_bat_avg.reset_index(inplace=True)\n",
    "stad_bat_avg.columns = ['Stadium', 'Avg.', 'Hit_Diff']\n",
    "stad_bat_avg.set_index('Stadium', drop=False, inplace=True)"
   ]
  },
  {
   "cell_type": "code",
   "execution_count": null,
   "metadata": {
    "scrolled": true
   },
   "outputs": [],
   "source": [
    "stad_merged = stad_bat_avg.merge(stad_df, how='left')"
   ]
  },
  {
   "cell_type": "code",
   "execution_count": null,
   "metadata": {},
   "outputs": [],
   "source": [
    "stad_merged.head()"
   ]
  },
  {
   "cell_type": "code",
   "execution_count": null,
   "metadata": {
    "scrolled": false
   },
   "outputs": [],
   "source": [
    "fig, ax1 = plt.subplots(figsize=(12,8))\n",
    "\n",
    "clrs = ['grey' if (x < all_bat_avg) else 'red' for x in stad_merged['Avg.'] ]\n",
    "g1 = sns.barplot(stad_merged['Avg.'], stad_merged['Stadium'], orient='h', palette=clrs )\n",
    "g1.set_title('Batting Average, 2017 Season to Present Day', fontsize=18)\n",
    "g1.set_xlabel('Batting Average', fontsize=16)\n",
    "g1.set_ylabel('Ballpark', fontsize=16)\n",
    "g1.set_xlim(0.20,0.30)\n",
    "g1.set_yticklabels(stad_merged['Stadium'], fontsize=12)\n",
    "g1.vlines(all_bat_avg, -1, 100, colors='k', linestyles='dashed', label='Batting Average All Parks')\n",
    "plt.legend(fontsize=14);"
   ]
  },
  {
   "cell_type": "code",
   "execution_count": null,
   "metadata": {},
   "outputs": [],
   "source": [
    "fig, ax1 = plt.subplots(figsize=(12,8))\n",
    "\n",
    "clrs = ['grey' if (x < all_bat_avg) else 'red' for x in stad_merged['Avg.'] ]\n",
    "g1 = sns.barplot(stad_merged['Hit_Diff'], stad_merged['Stadium'], orient='h', palette=clrs )\n",
    "g1.set_title('Total Hits +/- from Average, 2017 Season to Present Day', fontsize=18)\n",
    "g1.set_xlabel('Total Hits +/- from Average', fontsize=16)\n",
    "g1.set_ylabel('Ballpark', fontsize=16)\n",
    "g1.set_yticklabels(stad_merged['Stadium'], fontsize=12)\n",
    "g1.vlines(0, -1, 100, colors='k')"
   ]
  },
  {
   "cell_type": "code",
   "execution_count": null,
   "metadata": {},
   "outputs": [],
   "source": []
  },
  {
   "cell_type": "code",
   "execution_count": null,
   "metadata": {},
   "outputs": [],
   "source": []
  },
  {
   "cell_type": "code",
   "execution_count": null,
   "metadata": {},
   "outputs": [],
   "source": [
    "tb"
   ]
  },
  {
   "cell_type": "code",
   "execution_count": null,
   "metadata": {},
   "outputs": [],
   "source": [
    "tb[tb['Home?']==1]['H'].sum() / tb[tb['Home?']==1]['AB'].sum()"
   ]
  },
  {
   "cell_type": "code",
   "execution_count": null,
   "metadata": {},
   "outputs": [],
   "source": [
    "tb[tb['Home?']==0]['H'].sum() / tb[tb['Home?']==0]['AB'].sum()"
   ]
  },
  {
   "cell_type": "code",
   "execution_count": null,
   "metadata": {
    "collapsed": true
   },
   "outputs": [],
   "source": [
    "# We'll come back to this"
   ]
  },
  {
   "cell_type": "markdown",
   "metadata": {},
   "source": [
    "# Begin Rolling Stats"
   ]
  },
  {
   "cell_type": "code",
   "execution_count": null,
   "metadata": {
    "collapsed": true
   },
   "outputs": [],
   "source": [
    "tb_window = ['PA', 'R', 'H', '2B', '3B', 'HR', 'RBI', # batting strength\n",
    "             'SO', 'GDP', 'LOB', # batting weakness\n",
    "             'SB', # running strength\n",
    "             'CS', # running weakness\n",
    "             'Win/Loss', # overall team winningness\n",
    "             'WPA', 'RE24', 'aLI' # BR Measures\n",
    "            ]\n",
    "\n",
    "tp_window = ['BF', 'R', 'H', '2B', '3B', 'ER', 'HR', 'Pit',# opponent pitching weakness\n",
    "             'SO', 'WP', 'Str', 'GDP', 'Str/Pit', 'Win/Loss', # opponent pitching strength\n",
    "             'WPA', 'RE24', 'aLI', # BR Measures\n",
    "             '#' # May want to track average number of pitchers used\n",
    "            ]\n",
    "\n",
    "pp_window = ['IP', # May want to track deepness of starter\n",
    "              'DFS(DK)', 'DFS(FD)', # May be rather informative\n",
    "              'R', 'H', '2B', '3B', 'ER', 'HR', 'BB', 'BF/IP', 'WP', # opponent starting p weakness\n",
    "              'SO', 'Str/Pit', 'GDP', # opponent starting p strength\n",
    "              'GSc', 'WPA', 'RE24', 'aLI' # BR Measures\n",
    "             ]"
   ]
  },
  {
   "cell_type": "code",
   "execution_count": null,
   "metadata": {
    "collapsed": true
   },
   "outputs": [],
   "source": [
    "### DO I NEED TO SET DATE TO THE INDEX BEFORE ROLLING???"
   ]
  },
  {
   "cell_type": "markdown",
   "metadata": {},
   "source": [
    "## Rolling Team Batting"
   ]
  },
  {
   "cell_type": "code",
   "execution_count": null,
   "metadata": {
    "collapsed": true
   },
   "outputs": [],
   "source": [
    "teams = tb['Tm'].unique()"
   ]
  },
  {
   "cell_type": "code",
   "execution_count": null,
   "metadata": {
    "collapsed": true
   },
   "outputs": [],
   "source": [
    "rolling_cols = []\n",
    "for i in tb_window:\n",
    "    rolling_cols.append('ewm03_'+i+'_tmbat')\n",
    "for i in tb_window:\n",
    "    rolling_cols.append('ewm15_'+i+'_tmbat')\n",
    "for j in tb_window:\n",
    "    rolling_cols.append('rm81_'+j+'_tmbat')\n",
    "    \n",
    "rolling_cols.append('Tm')\n",
    "rolling_cols.append('Date')"
   ]
  },
  {
   "cell_type": "code",
   "execution_count": null,
   "metadata": {
    "scrolled": true
   },
   "outputs": [],
   "source": [
    "rolling_cols"
   ]
  },
  {
   "cell_type": "code",
   "execution_count": null,
   "metadata": {
    "collapsed": true
   },
   "outputs": [],
   "source": [
    "tb_rolling = pd.DataFrame(columns = rolling_cols)\n",
    "\n",
    "for team in teams:\n",
    "    tb_team = tb[tb['Tm']==team]\n",
    "    \n",
    "    # Try to capture shorter term strength/weakness\n",
    "    ewm03 = tb_team[tb_window].ewm(span=3, min_periods=1).mean().shift()\n",
    "    ewm15 = tb_team[tb_window].ewm(span=15, min_periods=1).mean().shift()\n",
    "    # 81 games covers half a season, captures typical strength/weakness\n",
    "    rm81 = tb_team[tb_window].rolling(window=81, min_periods=1).mean().shift()\n",
    "    \n",
    "    this_df = pd.concat([ewm03, ewm15, rm81], axis=1)\n",
    "\n",
    "    this_df['Tm'] = team\n",
    "    this_df['Date'] = tb_team['Date']\n",
    "    this_df.columns = rolling_cols\n",
    "    \n",
    "    tb_rolling = pd.concat([tb_rolling, this_df])"
   ]
  },
  {
   "cell_type": "code",
   "execution_count": null,
   "metadata": {
    "collapsed": true
   },
   "outputs": [],
   "source": [
    "tb_rolling.set_index(['Date', 'Tm'], drop=False, inplace=True)\n",
    "tb.set_index(['Date', 'Tm'], drop=False, inplace=True)"
   ]
  },
  {
   "cell_type": "code",
   "execution_count": null,
   "metadata": {},
   "outputs": [],
   "source": [
    "print(tb.shape)\n",
    "print(tb_rolling.shape)"
   ]
  },
  {
   "cell_type": "code",
   "execution_count": null,
   "metadata": {
    "collapsed": true
   },
   "outputs": [],
   "source": [
    "master = tb.merge(tb_rolling, how='left', on=['Date', 'Tm'])"
   ]
  },
  {
   "cell_type": "code",
   "execution_count": null,
   "metadata": {},
   "outputs": [],
   "source": [
    "master.shape"
   ]
  },
  {
   "cell_type": "code",
   "execution_count": null,
   "metadata": {
    "scrolled": true
   },
   "outputs": [],
   "source": [
    "master[master['Tm']=='ARI'][['Date', 'H', 'ewm03_H_tmbat']]"
   ]
  },
  {
   "cell_type": "markdown",
   "metadata": {},
   "source": [
    "## Rolling Opposing Pitching Staff, Team Level"
   ]
  },
  {
   "cell_type": "code",
   "execution_count": null,
   "metadata": {
    "collapsed": true
   },
   "outputs": [],
   "source": [
    "rolling_cols = []\n",
    "for i in tp_window:\n",
    "    rolling_cols.append('ewm03_'+i+'_opppit')\n",
    "for i in tp_window:\n",
    "    rolling_cols.append('ewm15_'+i+'_opppit')\n",
    "for j in tp_window:\n",
    "    rolling_cols.append('rm81_'+j+'_opppit')\n",
    "    \n",
    "rolling_cols.append('Tm')\n",
    "rolling_cols.append('Date')"
   ]
  },
  {
   "cell_type": "code",
   "execution_count": null,
   "metadata": {
    "scrolled": true
   },
   "outputs": [],
   "source": [
    "rolling_cols"
   ]
  },
  {
   "cell_type": "code",
   "execution_count": null,
   "metadata": {
    "collapsed": true
   },
   "outputs": [],
   "source": [
    "tp_rolling = pd.DataFrame(columns = rolling_cols)\n",
    "\n",
    "for team in teams:\n",
    "    tp_team = tp[tp['Tm']==team]\n",
    "    \n",
    "    ewm03 = tp_team[tp_window].ewm(span=3, min_periods=1).mean().shift()\n",
    "    ewm15 = tp_team[tp_window].ewm(span=15, min_periods=1).mean().shift()\n",
    "    rm81 = tp_team[tp_window].rolling(window=81, min_periods=1).mean().shift()\n",
    "    \n",
    "    this_df = pd.concat([ewm03, ewm15, rm81], axis=1)\n",
    "\n",
    "    this_df['Tm'] = team\n",
    "    this_df['Date'] = tp_team['Date']\n",
    "    this_df.columns = rolling_cols\n",
    "    \n",
    "    tp_rolling = pd.concat([tp_rolling, this_df])"
   ]
  },
  {
   "cell_type": "code",
   "execution_count": null,
   "metadata": {
    "collapsed": true
   },
   "outputs": [],
   "source": [
    "tp_rolling.set_index(['Date', 'Tm'], drop=False, inplace=True)"
   ]
  },
  {
   "cell_type": "code",
   "execution_count": null,
   "metadata": {},
   "outputs": [],
   "source": [
    "print(master.shape)\n",
    "print(tp_rolling.shape)"
   ]
  },
  {
   "cell_type": "code",
   "execution_count": null,
   "metadata": {
    "collapsed": true
   },
   "outputs": [],
   "source": [
    "master = master.merge(tp_rolling, how='left', left_on=['Date', 'Opp'], right_on=['Date', 'Tm'])"
   ]
  },
  {
   "cell_type": "code",
   "execution_count": null,
   "metadata": {},
   "outputs": [],
   "source": [
    "master.shape"
   ]
  },
  {
   "cell_type": "code",
   "execution_count": null,
   "metadata": {
    "scrolled": true
   },
   "outputs": [],
   "source": [
    "master[master['Opp']=='ARI'][['Date', 'SO', 'rm81_SO_opppit']]"
   ]
  },
  {
   "cell_type": "markdown",
   "metadata": {},
   "source": [
    "## Rolling Opposing Starting Pitcher"
   ]
  },
  {
   "cell_type": "code",
   "execution_count": null,
   "metadata": {
    "collapsed": true
   },
   "outputs": [],
   "source": [
    "rolling_cols = []\n",
    "for i in pp_window:\n",
    "    rolling_cols.append('ewm03_'+i+'_plpit')\n",
    "for i in pp_window:\n",
    "    rolling_cols.append('ewm15_'+i+'_plpit')\n",
    "for j in pp_window:\n",
    "    rolling_cols.append('rm81_'+j+'_plpit')\n",
    "\n",
    "rolling_cols.append('Player')\n",
    "rolling_cols.append('Tm')\n",
    "rolling_cols.append('Date')"
   ]
  },
  {
   "cell_type": "code",
   "execution_count": null,
   "metadata": {
    "scrolled": true
   },
   "outputs": [],
   "source": [
    "rolling_cols"
   ]
  },
  {
   "cell_type": "code",
   "execution_count": null,
   "metadata": {
    "collapsed": true
   },
   "outputs": [],
   "source": [
    "pitchers = pp['Player'].unique()"
   ]
  },
  {
   "cell_type": "code",
   "execution_count": null,
   "metadata": {
    "scrolled": true
   },
   "outputs": [],
   "source": [
    "pp[pp['Player']==pitchers[0]]"
   ]
  },
  {
   "cell_type": "code",
   "execution_count": null,
   "metadata": {
    "collapsed": true
   },
   "outputs": [],
   "source": [
    "pp_rolling = pd.DataFrame(columns = rolling_cols)\n",
    "\n",
    "for pitcher in pitchers:\n",
    "    pp_pitcher = pp[pp['Player']==pitcher]\n",
    "    \n",
    "    ewm03 = pp_pitcher[pp_window].ewm(span=3, min_periods=1).mean().shift()\n",
    "    ewm15 = pp_pitcher[pp_window].ewm(span=15, min_periods=1).mean().shift()\n",
    "    rm81 = pp_pitcher[pp_window].rolling(window=81, min_periods=1).mean().shift()\n",
    "    \n",
    "    this_df = pd.concat([ewm03, ewm15, rm81], axis=1)\n",
    "\n",
    "    this_df['Player'] = pitcher\n",
    "    this_df['Tm'] = pp_pitcher['Tm']\n",
    "    this_df['Date'] = pp_pitcher['Date']\n",
    "    this_df.columns = rolling_cols\n",
    "    \n",
    "    pp_rolling = pd.concat([pp_rolling, this_df])"
   ]
  },
  {
   "cell_type": "code",
   "execution_count": null,
   "metadata": {},
   "outputs": [],
   "source": [
    "pp_rolling.head()"
   ]
  },
  {
   "cell_type": "code",
   "execution_count": null,
   "metadata": {
    "collapsed": true
   },
   "outputs": [],
   "source": [
    "pp_rolling.set_index(['Date', 'Tm'], drop=False, inplace=True)"
   ]
  },
  {
   "cell_type": "code",
   "execution_count": null,
   "metadata": {},
   "outputs": [],
   "source": [
    "print(master.shape)\n",
    "print(pp_rolling.shape)"
   ]
  },
  {
   "cell_type": "code",
   "execution_count": null,
   "metadata": {
    "collapsed": true
   },
   "outputs": [],
   "source": [
    "master = master.merge(pp_rolling, how='left', left_on=['Date', 'Opp'], right_on=['Date', 'Tm'])"
   ]
  },
  {
   "cell_type": "code",
   "execution_count": null,
   "metadata": {},
   "outputs": [],
   "source": [
    "master.shape"
   ]
  },
  {
   "cell_type": "code",
   "execution_count": null,
   "metadata": {},
   "outputs": [],
   "source": [
    "master[master.columns[28:]].head()"
   ]
  },
  {
   "cell_type": "code",
   "execution_count": null,
   "metadata": {
    "collapsed": true
   },
   "outputs": [],
   "source": [
    "from sklearn.feature_extraction.text import CountVectorizer"
   ]
  },
  {
   "cell_type": "markdown",
   "metadata": {},
   "source": [
    "## One-Hot Encode Weather Metrics 'WindDir', 'Prec', 'Sky'"
   ]
  },
  {
   "cell_type": "code",
   "execution_count": null,
   "metadata": {
    "collapsed": true
   },
   "outputs": [],
   "source": [
    "# Drop 'Sky' for now\n",
    "master.drop('Sky', axis=1, inplace=True)"
   ]
  },
  {
   "cell_type": "code",
   "execution_count": null,
   "metadata": {
    "collapsed": true
   },
   "outputs": [],
   "source": [
    "# Drop remaining nulls so that CountVectorizer will work\n",
    "master.dropna(inplace=True)"
   ]
  },
  {
   "cell_type": "code",
   "execution_count": null,
   "metadata": {
    "collapsed": true
   },
   "outputs": [],
   "source": [
    "cv = CountVectorizer()"
   ]
  },
  {
   "cell_type": "code",
   "execution_count": null,
   "metadata": {},
   "outputs": [],
   "source": [
    "cv.fit_transform(master['Prec'])"
   ]
  },
  {
   "cell_type": "code",
   "execution_count": null,
   "metadata": {
    "collapsed": true
   },
   "outputs": [],
   "source": []
  },
  {
   "cell_type": "markdown",
   "metadata": {},
   "source": [
    "# Modeling"
   ]
  },
  {
   "cell_type": "code",
   "execution_count": null,
   "metadata": {
    "scrolled": true
   },
   "outputs": [],
   "source": [
    "list(master.isnull().sum())"
   ]
  },
  {
   "cell_type": "code",
   "execution_count": null,
   "metadata": {
    "collapsed": true
   },
   "outputs": [],
   "source": [
    "master.dropna(inplace=True)"
   ]
  },
  {
   "cell_type": "code",
   "execution_count": null,
   "metadata": {},
   "outputs": [],
   "source": [
    "list(master.columns)"
   ]
  },
  {
   "cell_type": "code",
   "execution_count": null,
   "metadata": {
    "collapsed": true
   },
   "outputs": [],
   "source": [
    "drop_cols = ['Date', 'Tm_x', 'Opp', 'Rslt', 'PA', 'AB', 'H', '2B', '3B', 'HR',\n",
    "            'RBI', 'BB', 'IBB', 'SO', 'HBP', 'SH', 'SF', 'ROE', 'GDP', 'SB', 'CS', 'WPA',\n",
    "            'RE24', 'aLI', 'LOB', '#', 'Attendance', 'GmLen', 'Game#', 'Win/Loss', 'Tm_y',\n",
    "            'Player', 'Tm',\n",
    "            'WindDir', 'Prec', 'Stad']"
   ]
  },
  {
   "cell_type": "code",
   "execution_count": null,
   "metadata": {
    "collapsed": true
   },
   "outputs": [],
   "source": [
    "model_df = master.drop(drop_cols, axis=1)"
   ]
  },
  {
   "cell_type": "code",
   "execution_count": null,
   "metadata": {
    "scrolled": true
   },
   "outputs": [],
   "source": [
    "model_df.corr()"
   ]
  },
  {
   "cell_type": "code",
   "execution_count": null,
   "metadata": {
    "collapsed": true
   },
   "outputs": [],
   "source": [
    "X = model_df.drop('R', axis=1)\n",
    "y = model_df['R']"
   ]
  },
  {
   "cell_type": "code",
   "execution_count": null,
   "metadata": {},
   "outputs": [],
   "source": [
    "print(X.shape)\n",
    "print(y.shape)"
   ]
  },
  {
   "cell_type": "code",
   "execution_count": null,
   "metadata": {},
   "outputs": [],
   "source": [
    "X.head()"
   ]
  },
  {
   "cell_type": "code",
   "execution_count": null,
   "metadata": {
    "collapsed": true
   },
   "outputs": [],
   "source": [
    "from sklearn.linear_model import LinearRegression\n",
    "from sklearn.preprocessing import StandardScaler\n",
    "from sklearn.model_selection import train_test_split"
   ]
  },
  {
   "cell_type": "code",
   "execution_count": null,
   "metadata": {
    "collapsed": true
   },
   "outputs": [],
   "source": [
    "ss = StandardScaler()\n",
    "X = ss.fit_transform(X)"
   ]
  },
  {
   "cell_type": "code",
   "execution_count": null,
   "metadata": {},
   "outputs": [],
   "source": [
    "X"
   ]
  },
  {
   "cell_type": "code",
   "execution_count": null,
   "metadata": {
    "collapsed": true
   },
   "outputs": [],
   "source": [
    "X_train, X_test, y_train, y_test = train_test_split(X, y, test_size=0.2)"
   ]
  },
  {
   "cell_type": "code",
   "execution_count": null,
   "metadata": {},
   "outputs": [],
   "source": [
    "print(X_train.shape)\n",
    "print(y_train.shape)\n",
    "print(X_test.shape)\n",
    "print(y_test.shape)"
   ]
  },
  {
   "cell_type": "code",
   "execution_count": null,
   "metadata": {},
   "outputs": [],
   "source": [
    "lr = LinearRegression()\n",
    "lr.fit(X_train, y_train)"
   ]
  },
  {
   "cell_type": "code",
   "execution_count": null,
   "metadata": {},
   "outputs": [],
   "source": [
    "lr.score(X_train, y_train)"
   ]
  },
  {
   "cell_type": "code",
   "execution_count": null,
   "metadata": {
    "scrolled": true
   },
   "outputs": [],
   "source": [
    "y_train - lr.predict(X_train)"
   ]
  },
  {
   "cell_type": "code",
   "execution_count": null,
   "metadata": {},
   "outputs": [],
   "source": [
    "fig, ax = plt.subplots(figsize=(10,6))\n",
    "plt.scatter(y_train, lr.predict(X_train))\n",
    "plt.xlim(0,5)\n",
    "plt.ylim(0,5)\n",
    "plt.xticks(range(0,20));"
   ]
  },
  {
   "cell_type": "code",
   "execution_count": null,
   "metadata": {},
   "outputs": [],
   "source": [
    "y_train.describe()"
   ]
  },
  {
   "cell_type": "code",
   "execution_count": null,
   "metadata": {},
   "outputs": [],
   "source": [
    "preds = lr.predict(X_train)\n",
    "pd.Series(preds).describe()"
   ]
  },
  {
   "cell_type": "markdown",
   "metadata": {},
   "source": [
    "## Modeling Win/Loss"
   ]
  },
  {
   "cell_type": "code",
   "execution_count": null,
   "metadata": {
    "collapsed": true
   },
   "outputs": [],
   "source": [
    "drop_cols = ['Rk', 'Date', 'Tm_x', 'Opp', 'Rslt', 'PA', 'AB', 'H', '2B', '3B', 'HR', 'R',\n",
    "            'RBI', 'BB', 'IBB', 'SO', 'HBP', 'SH', 'SF', 'ROE', 'GDP', 'SB', 'CS', 'WPA',\n",
    "            'RE24', 'aLI', 'LOB', '#', 'Attendance', 'GmLen', 'Game#', 'Tm_y',\n",
    "            'Player', 'Tm']"
   ]
  },
  {
   "cell_type": "code",
   "execution_count": null,
   "metadata": {
    "collapsed": true
   },
   "outputs": [],
   "source": [
    "model_df = master.drop(drop_cols, axis=1)"
   ]
  },
  {
   "cell_type": "code",
   "execution_count": null,
   "metadata": {
    "collapsed": true
   },
   "outputs": [],
   "source": [
    "X = model_df.drop('Win/Loss', axis=1)\n",
    "y = model_df['Win/Loss']"
   ]
  },
  {
   "cell_type": "code",
   "execution_count": null,
   "metadata": {
    "collapsed": true
   },
   "outputs": [],
   "source": []
  },
  {
   "cell_type": "code",
   "execution_count": null,
   "metadata": {
    "collapsed": true
   },
   "outputs": [],
   "source": []
  },
  {
   "cell_type": "code",
   "execution_count": null,
   "metadata": {
    "collapsed": true
   },
   "outputs": [],
   "source": []
  },
  {
   "cell_type": "code",
   "execution_count": null,
   "metadata": {
    "collapsed": true
   },
   "outputs": [],
   "source": []
  },
  {
   "cell_type": "markdown",
   "metadata": {},
   "source": [
    "- Note: I want Home/Away and ADI/weather info"
   ]
  },
  {
   "cell_type": "markdown",
   "metadata": {},
   "source": [
    "## tb: Team Batting\n",
    "- PA: Plate Appearances\n",
    "- AB: At Bats\n",
    "- R: Runs\n",
    "- H: Hits\n",
    "- BB: Bases on Balls\n",
    "- IBB: Intentional Bases on Balls \n",
    "- SO: Strikeouts\n",
    "- HBP: Hit-by-pitch\n",
    "- SH: Sacrifice Hits\n",
    "- SF: Sacrifice Flies\n",
    "- ROE: Reached on Error\n",
    "- GDB: Double Plays Grounded Into\n",
    "- SB: Stolen Bases\n",
    "- CS: Caught Stealing\n",
    "- WPA: Win Probability Added for Offensive Player (BR measure)\n",
    "- RE24: Base-out Runs Added (BR measure)\n",
    "- aLI: Average Leverage Index (BR measure)\n",
    "- LOB: Runners Left on Base\n",
    "- #: Number of Players Used in Game\n",
    "- GmLen: Game Length (minutes)"
   ]
  },
  {
   "cell_type": "markdown",
   "metadata": {},
   "source": [
    "## tp: Team Pitching\n",
    "- ER: Earned Runs Allowed\n",
    "- UER: Unearned Runs Allowed\n",
    "- Pit: Number of total pitches\n",
    "- Str: Number of total strikes\n",
    "- IR: Number of inherited runners\n",
    "- IS: Inherited Score\n",
    "- BF: Batters Faced\n",
    "- SB: Stolen Bases\n",
    "- CS: Caught Stealing\n",
    "- PO: Pickoffs\n",
    "- BK: Balks\n",
    "- ERA: Earned Run Average\n",
    "- WPA: Win Probability added by Pitcher (BR measure)\n",
    "- RE24: Base-Out Runs Saved (BR measure)\n",
    "- #: Number of pitchers used in the game"
   ]
  },
  {
   "cell_type": "markdown",
   "metadata": {},
   "source": [
    "## pp: Player Pitching\n",
    "- AppDec: Indicates starting and ending of pitcher\n",
    "- GSc: Game Score (BR Measure)\n",
    "- WP: Wild Pitches"
   ]
  },
  {
   "cell_type": "code",
   "execution_count": null,
   "metadata": {
    "collapsed": true
   },
   "outputs": [],
   "source": []
  }
 ],
 "metadata": {
  "kernelspec": {
   "display_name": "Python [default]",
   "language": "python",
   "name": "python3"
  },
  "language_info": {
   "codemirror_mode": {
    "name": "ipython",
    "version": 3
   },
   "file_extension": ".py",
   "mimetype": "text/x-python",
   "name": "python",
   "nbconvert_exporter": "python",
   "pygments_lexer": "ipython3",
   "version": "3.6.3"
  }
 },
 "nbformat": 4,
 "nbformat_minor": 2
}
